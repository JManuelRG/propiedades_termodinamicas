{
  "nbformat": 4,
  "nbformat_minor": 0,
  "metadata": {
    "colab": {
      "provenance": [],
      "authorship_tag": "ABX9TyM1Plk/VRnUfKksthXU/Lcl",
      "include_colab_link": true
    },
    "kernelspec": {
      "name": "python3",
      "display_name": "Python 3"
    },
    "language_info": {
      "name": "python"
    }
  },
  "cells": [
    {
      "cell_type": "markdown",
      "metadata": {
        "id": "view-in-github",
        "colab_type": "text"
      },
      "source": [
        "<a href=\"https://colab.research.google.com/github/JManuelRG/propiedades_termodinamicas/blob/main/Mezclas/PtoB_y_PtoR.ipynb\" target=\"_parent\"><img src=\"https://colab.research.google.com/assets/colab-badge.svg\" alt=\"Open In Colab\"/></a>"
      ]
    },
    {
      "cell_type": "markdown",
      "source": [
        "# Librería Thermopack\n",
        "## Propiedades Termodinámicas de Mezclas\n",
        "\n",
        "https://github.com/thermotools/thermopack"
      ],
      "metadata": {
        "id": "HsL-BGI6oE1m"
      }
    },
    {
      "cell_type": "code",
      "source": [
        "!pip install thermopack"
      ],
      "metadata": {
        "colab": {
          "base_uri": "https://localhost:8080/"
        },
        "id": "17Vy_ZUVoWtN",
        "outputId": "aa6e3c2a-e44d-44cb-b96e-3e771b2e526c"
      },
      "execution_count": 2,
      "outputs": [
        {
          "output_type": "stream",
          "name": "stdout",
          "text": [
            "Collecting thermopack\n",
            "  Downloading thermopack-2.2.3-py3-none-manylinux_2_28_x86_64.whl (4.1 MB)\n",
            "\u001b[2K     \u001b[90m━━━━━━━━━━━━━━━━━━━━━━━━━━━━━━━━━━━━━━━━\u001b[0m \u001b[32m4.1/4.1 MB\u001b[0m \u001b[31m7.6 MB/s\u001b[0m eta \u001b[36m0:00:00\u001b[0m\n",
            "\u001b[?25hInstalling collected packages: thermopack\n",
            "Successfully installed thermopack-2.2.3\n"
          ]
        }
      ]
    },
    {
      "cell_type": "code",
      "source": [
        "# importar los modelos al cuaderno\n",
        "from thermopack import saftvrmie, saftvrqmie, pcsaft, lee_kesler\n",
        "from thermopack.cubic import SoaveRedlichKwong, RedlichKwong, PengRobinson, PengRobinson78\n",
        "from thermopack.cubic import SchmidtWensel, PatelTeja, VanDerWaals\n",
        "from thermopack.pcsaft import SPC_SAFT, PCP_SAFT"
      ],
      "metadata": {
        "id": "rdNlguZ75uIr"
      },
      "execution_count": 3,
      "outputs": []
    },
    {
      "cell_type": "markdown",
      "source": [
        "# Puntos de Burbuja y de Rocío de una Mezcla"
      ],
      "metadata": {
        "id": "hgqHLxwwE10m"
      }
    },
    {
      "cell_type": "markdown",
      "source": [
        "# Sintaxis:\n",
        "# Definir Modelo a usar:\n",
        "## eos = cubic('sust1,sust2', 'Modelo')\n",
        "\n",
        "\n",
        "## Tipo de Cálculo:\n",
        "bubble_temperature(p, z),\n",
        "\n",
        "bubble_pressure(T, z),\n",
        "\n",
        "dew_temperature(p, z)\n",
        "\n",
        "dew_pressure(T, z)\n",
        "\n",
        "z es la composición de la mezcla\n",
        "\n",
        "p es la presión de la mezcla en Pa\n",
        "\n",
        "T es temperatura de la mezcla en K"
      ],
      "metadata": {
        "id": "2e3-XHsiICUY"
      }
    },
    {
      "cell_type": "markdown",
      "source": [
        "# Consulta el identificador de cada sustancia en la Lista de fluidos para definir sustancias: sust1, sust2:\n",
        "https://github.com/thermotools/thermopack?tab=readme-ov-file#fluid-name-to-fluid-identifier-mapping"
      ],
      "metadata": {
        "id": "DshJ3OcXSt8V"
      }
    },
    {
      "cell_type": "markdown",
      "source": [
        "# Modelo\n",
        "| Modelos                   | Nombre |\n",
        "|-------------------------|-----------|\n",
        "| Van der Waals           | VdW       |\n",
        "| Soave Redlich Kwong     | SRK       |\n",
        "| Peng Robinson           | PR        |\n",
        "| Schmidt-Wensel          | SW        |\n",
        "| Patel Teja              | PT        |\n",
        "| Translated consistent PR| tcPR      |\n"
      ],
      "metadata": {
        "id": "YKAEObqgTdiC"
      }
    },
    {
      "cell_type": "markdown",
      "source": [
        "# Ejemplo: Mezcla Benceno Tolueno"
      ],
      "metadata": {
        "id": "FrxE2hx3wowr"
      }
    },
    {
      "cell_type": "code",
      "source": [
        "from thermopack.cubic import cubic\n",
        "eos = cubic('BENZENE,TOLU','SW')\n",
        "x = [0.4, 0.6] # Composición de la mezcla"
      ],
      "metadata": {
        "id": "DABX-_m2G7dC"
      },
      "execution_count": 8,
      "outputs": []
    },
    {
      "cell_type": "markdown",
      "source": [
        "# Presión de rocío y composición de la primera gota de líquido:"
      ],
      "metadata": {
        "id": "xejCVKaTyDMl"
      }
    },
    {
      "cell_type": "code",
      "source": [
        "p_dew, y_dew = eos.dew_pressure(250, x) # Calcula presión y composición de rocío a 250 K\n",
        "print(f'Procío = {p_dew} Pa')\n",
        "print(f'Composicion de rocío => x1 = {y_dew[0]}, x2={y_dew[1]}')"
      ],
      "metadata": {
        "id": "cOuQaQJ-IcN0",
        "outputId": "3d6865dc-92bd-42ab-965f-4682e315edfe",
        "colab": {
          "base_uri": "https://localhost:8080/"
        }
      },
      "execution_count": 9,
      "outputs": [
        {
          "output_type": "stream",
          "name": "stdout",
          "text": [
            "Procío = 252.91061740599616 Pa\n",
            "Composicion de rocío => x1 = 0.11438014572946613, x2=0.8856198542705338\n"
          ]
        }
      ]
    },
    {
      "cell_type": "markdown",
      "source": [
        "# Presión de burbuja y composición de la primera burbuja de vapor:"
      ],
      "metadata": {
        "id": "M4iQiRYhydPN"
      }
    },
    {
      "cell_type": "code",
      "source": [
        "p_bub, x_bub = eos.bubble_pressure(230, x) # Calcula la presión y composición de burbuja a 230 K\n",
        "print(f'Pburbuja = {p_bub} Pa')\n",
        "print(f'Composicion de burbuja => y1 = {x_bub[0]}, y2={x_bub[1]}')"
      ],
      "metadata": {
        "colab": {
          "base_uri": "https://localhost:8080/"
        },
        "id": "jMtDJvxmydhW",
        "outputId": "7476c82f-4c4b-4407-f374-d199b301c6e1"
      },
      "execution_count": 10,
      "outputs": [
        {
          "output_type": "stream",
          "name": "stdout",
          "text": [
            "Pburbuja = 94.69250015161778 Pa\n",
            "Composicion de burbuja => y1 = 0.8105932287386948, y2=0.18940677907688394\n"
          ]
        }
      ]
    },
    {
      "cell_type": "markdown",
      "source": [
        "# Temperatura de burbuja y composición de la primera burbuja de vapor:"
      ],
      "metadata": {
        "id": "FgZSSchdy9qV"
      }
    },
    {
      "cell_type": "code",
      "source": [
        "T_bub, x_bub = eos.bubble_temperature(1e5, x) # Calcula la temperatura y composición de burbuja a 1 bar\n",
        "print(f'Tburb = {T_bub} K = {T_bub-273.15} °C')\n",
        "print(f'Composicion de burbuja => y1 = {x_bub[0]}, y2={x_bub[1]}')"
      ],
      "metadata": {
        "colab": {
          "base_uri": "https://localhost:8080/"
        },
        "id": "wMNXTrqCy62-",
        "outputId": "22aef661-48da-4d2e-d104-0b3dceef2b4f"
      },
      "execution_count": 11,
      "outputs": [
        {
          "output_type": "stream",
          "name": "stdout",
          "text": [
            "Tburb = 368.01308169676577 K = 94.86308169676579 °C\n",
            "Composicion de burbuja => y1 = 0.6141910502482686, y2=0.3858089497517313\n"
          ]
        }
      ]
    },
    {
      "cell_type": "markdown",
      "source": [
        "# Temperatura de rocío y composición de la primera gota de líquido:"
      ],
      "metadata": {
        "id": "XJo940jj22z2"
      }
    },
    {
      "cell_type": "code",
      "source": [
        "T_dew, y_dew = eos.dew_temperature(1e5, x) # Calcula temperatura y composición de rocío a 1 bar (1e5 Pa)\n",
        "print(f'Procío = {T_dew} K = {T_dew-273.15} °C')\n",
        "print(f'Composicion de rocío => x1 = {y_dew[0]}, x2={y_dew[1]}')"
      ],
      "metadata": {
        "colab": {
          "base_uri": "https://localhost:8080/"
        },
        "id": "z-19mgZN22-G",
        "outputId": "f155e0ad-cd16-4e5b-c3df-48f3b3b4541a"
      },
      "execution_count": 12,
      "outputs": [
        {
          "output_type": "stream",
          "name": "stdout",
          "text": [
            "Procío = 374.12817356742175 K = 100.97817356742178 °C\n",
            "Composicion de rocío => x1 = 0.22211130930006417, x2=0.7778886906999358\n"
          ]
        }
      ]
    }
  ]
}