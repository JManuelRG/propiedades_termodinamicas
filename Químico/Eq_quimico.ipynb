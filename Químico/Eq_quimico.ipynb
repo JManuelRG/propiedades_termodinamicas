{
  "nbformat": 4,
  "nbformat_minor": 0,
  "metadata": {
    "colab": {
      "provenance": [],
      "authorship_tag": "ABX9TyMueQ0K/FpPvHt1PMFxFNGU",
      "include_colab_link": true
    },
    "kernelspec": {
      "name": "python3",
      "display_name": "Python 3"
    },
    "language_info": {
      "name": "python"
    }
  },
  "cells": [
    {
      "cell_type": "markdown",
      "metadata": {
        "id": "view-in-github",
        "colab_type": "text"
      },
      "source": [
        "<a href=\"https://colab.research.google.com/github/JManuelRG/propiedades_termodinamicas/blob/main/Qu%C3%ADmico/Eq_quimico.ipynb\" target=\"_parent\"><img src=\"https://colab.research.google.com/assets/colab-badge.svg\" alt=\"Open In Colab\"/></a>"
      ]
    },
    {
      "cell_type": "markdown",
      "source": [
        "# Equilibrio químico\n",
        "# Librería Cantera"
      ],
      "metadata": {
        "id": "43YXVMEXOxCL"
      }
    },
    {
      "cell_type": "code",
      "source": [
        "# Instalar la libreria\n",
        "!pip install cantera"
      ],
      "metadata": {
        "colab": {
          "base_uri": "https://localhost:8080/"
        },
        "id": "-d5r-OXmOxVm",
        "outputId": "b2085719-50f1-4bfe-f110-3d6b722fcddc"
      },
      "execution_count": 1,
      "outputs": [
        {
          "output_type": "stream",
          "name": "stdout",
          "text": [
            "Collecting cantera\n",
            "  Downloading Cantera-3.0.0-cp310-cp310-manylinux_2_17_x86_64.manylinux2014_x86_64.whl (5.9 MB)\n",
            "\u001b[2K     \u001b[90m━━━━━━━━━━━━━━━━━━━━━━━━━━━━━━━━━━━━━━━━\u001b[0m \u001b[32m5.9/5.9 MB\u001b[0m \u001b[31m10.8 MB/s\u001b[0m eta \u001b[36m0:00:00\u001b[0m\n",
            "\u001b[?25hRequirement already satisfied: numpy>=1.12.0 in /usr/local/lib/python3.10/dist-packages (from cantera) (1.25.2)\n",
            "Collecting ruamel.yaml>=0.15.34 (from cantera)\n",
            "  Downloading ruamel.yaml-0.18.6-py3-none-any.whl (117 kB)\n",
            "\u001b[2K     \u001b[90m━━━━━━━━━━━━━━━━━━━━━━━━━━━━━━━━━━━━━━━━\u001b[0m \u001b[32m117.8/117.8 kB\u001b[0m \u001b[31m1.6 MB/s\u001b[0m eta \u001b[36m0:00:00\u001b[0m\n",
            "\u001b[?25hRequirement already satisfied: packaging in /usr/local/lib/python3.10/dist-packages (from cantera) (24.1)\n",
            "Collecting ruamel.yaml.clib>=0.2.7 (from ruamel.yaml>=0.15.34->cantera)\n",
            "  Downloading ruamel.yaml.clib-0.2.8-cp310-cp310-manylinux_2_17_x86_64.manylinux2014_x86_64.manylinux_2_24_x86_64.whl (526 kB)\n",
            "\u001b[2K     \u001b[90m━━━━━━━━━━━━━━━━━━━━━━━━━━━━━━━━━━━━━━━━\u001b[0m \u001b[32m526.7/526.7 kB\u001b[0m \u001b[31m10.2 MB/s\u001b[0m eta \u001b[36m0:00:00\u001b[0m\n",
            "\u001b[?25hInstalling collected packages: ruamel.yaml.clib, ruamel.yaml, cantera\n",
            "Successfully installed cantera-3.0.0 ruamel.yaml-0.18.6 ruamel.yaml.clib-0.2.8\n"
          ]
        }
      ]
    },
    {
      "cell_type": "markdown",
      "source": [
        "\n",
        "El archivo gri30.yaml es esencialmente una base de datos de un mecanismo de combustión detallado, y Cantera lo utiliza para realizar simulaciones precisas de reacciones químicas. Este archivo permite a los usuarios definir especies, reacciones y propiedades termodinámicas y de transporte necesarias para las simulaciones de equilibrio y cinética química.\n",
        "\n"
      ],
      "metadata": {
        "id": "YTE2Mf_xPpj7"
      }
    },
    {
      "cell_type": "markdown",
      "source": [
        "# Ejemplo de COnstante de equilibrio para combustion"
      ],
      "metadata": {
        "id": "lmCliLkzTg3_"
      }
    },
    {
      "cell_type": "code",
      "source": [
        "import cantera as ct\n",
        "\n",
        "# Crear una solución gas utilizando la base de datos de Cantera\n",
        "gas = ct.Solution('gri30.yaml')\n",
        "\n",
        "# Definir las condiciones de la reacción\n",
        "temperatura = 600  # Temperatura en Kelvin\n",
        "presion = ct.one_atm  # Presión en Pascales (1 atm)\n",
        "\n",
        "# Definir la mezcla inicial (fracciones molares)\n",
        "gas.TPX = temperatura, presion, 'H2:2, O2:1, N2:4'\n",
        "\n",
        "# Llevar la mezcla al equilibrio\n",
        "gas.equilibrate('TP')\n",
        "\n",
        "# Obtener las constantes de equilibrio Kc (basadas en concentración)\n",
        "K_eq = gas.equilibrium_constants\n",
        "\n",
        "# Obtener la ecuación de la primera reacción\n",
        "rxn_equation = gas.reaction(0).equation\n",
        "\"Cambiar el índice 0 por las reacciones que se mencionan en el archivo gri30.yaml\"\n",
        "\n",
        "print(\"Modelo\")\n",
        "print(gas())\n",
        "\n",
        "print(f'Constante de equilibrio (K_eq) para la reacción {rxn_equation} a {temperatura} K y {presion} Pa: {K_eq[0]}')\n"
      ],
      "metadata": {
        "colab": {
          "base_uri": "https://localhost:8080/"
        },
        "id": "kutECczeO47U",
        "outputId": "e83bcd0a-71db-49e1-e5c0-dddb8904ee63"
      },
      "execution_count": 5,
      "outputs": [
        {
          "output_type": "stream",
          "name": "stdout",
          "text": [
            "Modelo\n",
            "\n",
            "  gri30:\n",
            "\n",
            "       temperature   600 K\n",
            "          pressure   1.0133e+05 Pa\n",
            "           density   0.5013 kg/m^3\n",
            "  mean mol. weight   24.681 kg/kmol\n",
            "   phase of matter   gas\n",
            "\n",
            "                          1 kg             1 kmol     \n",
            "                     ---------------   ---------------\n",
            "          enthalpy       -2.8836e+06        -7.117e+07  J\n",
            "   internal energy       -3.0857e+06       -7.6159e+07  J\n",
            "           entropy              8821        2.1771e+05  J/K\n",
            "    Gibbs function       -8.1762e+06        -2.018e+08  J\n",
            " heat capacity c_p            1303.2             32165  J/K\n",
            " heat capacity c_v            966.33             23850  J/K\n",
            "\n",
            "                      mass frac. Y      mole frac. X     chem. pot. / RT\n",
            "                     ---------------   ---------------   ---------------\n",
            "                H2        1.9214e-14        2.3523e-13           -45.484\n",
            "                O2        1.4337e-13        1.1058e-13           -55.216\n",
            "               H2O            0.2433           0.33333           -73.092\n",
            "                NO        1.6805e-14        1.3823e-14           -39.673\n",
            "                N2            0.7567           0.66667            -24.13\n",
            "     [  +48 minor]        2.8435e-16        4.0894e-16  \n",
            "\n",
            "None\n",
            "Constante de equilibrio (K_eq) para la reacción 2 O + M <=> O2 + M a 600 K y 101325.0 Pa: 6.8049770901037715e+38\n"
          ]
        }
      ]
    },
    {
      "cell_type": "markdown",
      "source": [
        "# Referencia:\n",
        "\n",
        "\n",
        "G. P. Smith, D. M. Golden, M. Frenklach, N .W. Moriarty, B. Eiteneer, M. Goldenberg, C. T. Bowman, R. K. Hanson, S. Song, Jr. W. C. Gardiner, V. V. Lissianski, and Z. Qin. GRI-Mech 3.0. 1999. URL: http://combustion.berkeley.edu/gri-mech/version30/text30.html."
      ],
      "metadata": {
        "id": "ifnXSVkKSzrM"
      }
    },
    {
      "cell_type": "markdown",
      "source": [
        "# Ejemplo de poder calorífico de gases\n",
        "# Poder calorífico inferior de la combustion de metano\n",
        "\n",
        "# Tutorial;\n",
        "https://cantera.org/tutorials/python-tutorial.html"
      ],
      "metadata": {
        "id": "GoFP3Q1eTlgg"
      }
    },
    {
      "cell_type": "code",
      "source": [
        "gas = ct.Solution(\"gri30.yaml\")\n",
        "\n",
        "# Set reactants state\n",
        "gas.TPX = 298, 101325, \"CH4:1, O2:2\"\n",
        "h1 = gas.enthalpy_mass\n",
        "Y_CH4 = gas[\"CH4\"].Y[0]  # returns an array, of which we only want the first element\n",
        "\n",
        "# set state to complete combustion products without changing T or P\n",
        "gas.TPX = None, None, \"CO2:1, H2O:2\"\n",
        "h2 = gas.enthalpy_mass\n",
        "\n",
        "LHV = -(h2 - h1) / Y_CH4 / 1e6\n",
        "print(f\"LHV = {LHV:.3f} MJ/kg\")"
      ],
      "metadata": {
        "colab": {
          "base_uri": "https://localhost:8080/"
        },
        "id": "MCvk0a7cToTn",
        "outputId": "618a3e24-94db-40d3-d9d6-f0d033e87867"
      },
      "execution_count": 7,
      "outputs": [
        {
          "output_type": "stream",
          "name": "stdout",
          "text": [
            "LHV = 50.025 MJ/kg\n"
          ]
        }
      ]
    }
  ]
}