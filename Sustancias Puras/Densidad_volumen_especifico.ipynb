{
  "nbformat": 4,
  "nbformat_minor": 0,
  "metadata": {
    "colab": {
      "provenance": [],
      "authorship_tag": "ABX9TyO4jzSNIOt0V7eMkwgEyfew",
      "include_colab_link": true
    },
    "kernelspec": {
      "name": "python3",
      "display_name": "Python 3"
    },
    "language_info": {
      "name": "python"
    }
  },
  "cells": [
    {
      "cell_type": "markdown",
      "metadata": {
        "id": "view-in-github",
        "colab_type": "text"
      },
      "source": [
        "<a href=\"https://colab.research.google.com/github/JManuelRG/propiedades_termodinamicas/blob/main/Sustancias%20Puras/Densidad_volumen_especifico.ipynb\" target=\"_parent\"><img src=\"https://colab.research.google.com/assets/colab-badge.svg\" alt=\"Open In Colab\"/></a>"
      ]
    },
    {
      "cell_type": "markdown",
      "source": [
        "# Propiedades Básicas\n",
        "\n",
        "# Determinación de propiedades de sustancias puras\n",
        "## Densidad\n",
        "Se define como la masa contenida de una sustancia pura por unidad de volumen\n",
        "$$\\rho=\\frac{m}{V}$$\n",
        "\n",
        "## Volumen específico\n",
        "Se define como el volumen contenido de una sustancia pura por unidad de masa\n",
        "$$\\rho=\\frac{V}{m}$$\n"
      ],
      "metadata": {
        "id": "ZzUm7C3YZ5je"
      }
    },
    {
      "cell_type": "markdown",
      "source": [
        "## Instrucciones\n",
        "1. Instalar e importar la librería a este cuaderno con el comando de instalación siguiente\n"
      ],
      "metadata": {
        "id": "5buycdAIRsbS"
      }
    },
    {
      "cell_type": "code",
      "source": [
        "!pip install CoolProp"
      ],
      "metadata": {
        "colab": {
          "base_uri": "https://localhost:8080/"
        },
        "id": "zvnfgQBeZ6yZ",
        "outputId": "fda3b86d-d4de-41a5-8005-1e5b0663eb88"
      },
      "execution_count": 24,
      "outputs": [
        {
          "output_type": "stream",
          "name": "stdout",
          "text": [
            "Requirement already satisfied: CoolProp in /usr/local/lib/python3.10/dist-packages (6.6.0)\n"
          ]
        }
      ]
    },
    {
      "cell_type": "markdown",
      "source": [
        "# Determinación\n",
        "Para calcular la densidad de una sustancia pura en unidades SI, ejecutar la siguiente celda.\n",
        "\n",
        "Instruciones:\n",
        "\n",
        "a) Escribir la Temperatura en K.\n",
        "\n",
        "b) Escribir la Presión en Pa.\n",
        "\n",
        "c) Escribir el alias de la sustancia, de acuerdo a la siguiente tabla:\n",
        "\n",
        "Sustancias incluidas: http://www.coolprop.org/fluid_properties/PurePseudoPure.html#list-of-fluids"
      ],
      "metadata": {
        "id": "UjdPhvtJUb24"
      }
    },
    {
      "cell_type": "code",
      "source": [
        "# DENSIDAD\n",
        "from CoolProp.CoolProp import PropsSI\n",
        "def densidad():\n",
        "  sust=input(\"Escribe la fórmula de la sustancia: \")\n",
        "  T = float(input(\"T (K)= \"))\n",
        "  P =float(input(\"P (Pa))= \"))\n",
        "  d = PropsSI('D', 'T', T, 'P', P, sust)\n",
        "  return  f'La densidad de {sust} es {d}  kg/m3'\n",
        "\n",
        "densidad()"
      ],
      "metadata": {
        "colab": {
          "base_uri": "https://localhost:8080/",
          "height": 90
        },
        "id": "VG1OJCfIUkOD",
        "outputId": "24a76b4b-5855-4619-d391-d6a475d4575d"
      },
      "execution_count": 30,
      "outputs": [
        {
          "name": "stdout",
          "output_type": "stream",
          "text": [
            "Escribe la fórmula de la sustancia: CO\n",
            "T (K)= 300\n",
            "P (Pa))= 1e7\n"
          ]
        },
        {
          "output_type": "execute_result",
          "data": {
            "text/plain": [
              "'La densidad de CO es 112.77602734025075  kg/m3'"
            ],
            "application/vnd.google.colaboratory.intrinsic+json": {
              "type": "string"
            }
          },
          "metadata": {},
          "execution_count": 30
        }
      ]
    },
    {
      "cell_type": "code",
      "source": [],
      "metadata": {
        "id": "qcl580ZbTrU2"
      },
      "execution_count": null,
      "outputs": []
    }
  ]
}