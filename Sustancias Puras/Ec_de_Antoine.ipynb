{
  "nbformat": 4,
  "nbformat_minor": 0,
  "metadata": {
    "colab": {
      "provenance": [],
      "authorship_tag": "ABX9TyMWHZaT7Jp50GcTinQLy/1W",
      "include_colab_link": true
    },
    "kernelspec": {
      "name": "python3",
      "display_name": "Python 3"
    },
    "language_info": {
      "name": "python"
    }
  },
  "cells": [
    {
      "cell_type": "markdown",
      "metadata": {
        "id": "view-in-github",
        "colab_type": "text"
      },
      "source": [
        "<a href=\"https://colab.research.google.com/github/JManuelRG/propiedades_termodinamicas/blob/main/Sustancias%20Puras/Ec_de_Antoine.ipynb\" target=\"_parent\"><img src=\"https://colab.research.google.com/assets/colab-badge.svg\" alt=\"Open In Colab\"/></a>"
      ]
    },
    {
      "cell_type": "markdown",
      "source": [
        "#Ecuación de Antoine\n",
        "# Contantes Obtenidas de la base de datos web de NIST:\n",
        "\n",
        "https://webbook.nist.gov/chemistry/\n",
        "\n",
        "# Web scrapper:\n",
        "https://github.com/oscarcontrerasnavas/NIST-web-book-scraping/blob/master/README.md\n",
        "\n",
        "https://pypi.org/project/beautifulsoup4/\n"
      ],
      "metadata": {
        "id": "c1qeY6TzuHoD"
      }
    },
    {
      "cell_type": "markdown",
      "source": [
        "# Instrucciones:\n",
        "\n",
        "Ejecutar la siguiente función para obtener los parámetros de la ecuación de Antoine.\n",
        "\n",
        "La celda es un Web Scrapper que buscará el compuesto en la base de datos de NIST y obtendrá los datos para ese compuesto."
      ],
      "metadata": {
        "id": "ocO2vulEx6aE"
      }
    },
    {
      "cell_type": "code",
      "source": [
        "# Import get function from requests module because is the function in charge of\n",
        "# getting the HTTP GET request with the given url.\n",
        "from requests import get\n",
        "\n",
        "# Import BeautifulSoup from bs4 because make the html parse and help us to\n",
        "# handle de DOM.\n",
        "from bs4 import BeautifulSoup\n",
        "\n",
        "# Import closing for ensure that any network resource will free when they go out\n",
        "# of scope.\n",
        "from contextlib import closing\n",
        "\n",
        "def get_antoine_coef(Name, Temperature):\n",
        "\n",
        "    \"\"\" Return a list with the coefficients A, B and C if they exist for the\n",
        "        given Temperature. If not, return None and print it.\n",
        "\n",
        "    :param Name:\n",
        "        A string with the name of the compound in English.\n",
        "\n",
        "    :param Temperature:\n",
        "        A float number with the temperature in Kelvin.\n",
        "\n",
        "    :rtype: List\n",
        "\n",
        "    :return coef with [A, B, C]\n",
        "\n",
        "    \"\"\"\n",
        "\n",
        "    # Obtaining the table using the get_html function showed below. Table is a\n",
        "    # BeautifulSoup Object.\n",
        "    table = get_html_table(Name)\n",
        "\n",
        "    # Extract the rows from the table. Knowing what tags have an HTML table.\n",
        "    # Also, knowing that the fist row with he table header does not have the\n",
        "    # class attribute 'exp' so we obtain just the rows with data.\n",
        "    # The find_all function from BeautifulSoup return a list\n",
        "    rows = table.find_all('tr', class_='exp')\n",
        "\n",
        "    # Declaring the lists for storage Temperatures, and coefficients.\n",
        "    Temperatures, As, Bs, Cs = [], [], [], []\n",
        "\n",
        "    # Looping over rows to extract and fill As, Bs, and Cs variables because now\n",
        "    # we are sure the Temperatues is between some range.\n",
        "    for row in rows:\n",
        "\n",
        "        # As the rows, we extract the columns for the current row. Knowing that\n",
        "        # the cols have the <td> tag in HTML as well\n",
        "        # The find_all function from BeautifulSoup return a list\n",
        "        cols =  row.find_all('td')\n",
        "\n",
        "        # First transform the strings into float numbers and put them in their\n",
        "        # respective list\n",
        "        As.append(float(cols[1].text))\n",
        "        Bs.append(float(cols[2].text))\n",
        "        Cs.append(float(cols[3].text))\n",
        "\n",
        "        # For the temperatures, we have a range and we need to extract each\n",
        "        # limit (lower and higher) and put them in an extra list. So\n",
        "        # Temperatures variable will be a list of lists.\n",
        "        lower_lim = float(cols[0].text.replace(\" \",\"\").split('-')[0])\n",
        "        higher_lim = float(cols[0].text.replace(\" \",\"\").split('-')[1])\n",
        "        Temperatures.append([lower_lim, higher_lim])\n",
        "\n",
        "\n",
        "    # Checking if the Temperature gave fits in some interval\n",
        "    index = None\n",
        "    for i, interval in enumerate(Temperatures):\n",
        "        if (interval[0] <= Temperature\n",
        "            and Temperature <= interval[1]):\n",
        "            index = i\n",
        "            break\n",
        "        else:\n",
        "            index = None\n",
        "\n",
        "    if index == None:\n",
        "        print('Sorry, the data for the given temperature %.2f K does not exist in the Data Base' % Temperature)\n",
        "        return None\n",
        "    else:\n",
        "        A = As[index]\n",
        "        B = Bs[index]\n",
        "        C = Cs[index]\n",
        "        return [A, B, C]\n",
        "\n",
        "\n",
        "def get_html_table(Name):\n",
        "\n",
        "    \"\"\" Return the html already parsed using the a helper function listed below.\n",
        "\n",
        "    :param Name:\n",
        "        A string with the name of the compound in English.\n",
        "\n",
        "    :rtype: BeautifulSoup Object\n",
        "\n",
        "    \"\"\"\n",
        "\n",
        "    # The name parameter is part of the url. For example, if you want the\n",
        "    # methane data, the url is\n",
        "    # https://webbook.nist.gov/cgi/cbook.cgi?Name=methane&Mask=4.\n",
        "    url = str.format('https://webbook.nist.gov/cgi/cbook.cgi?Name={0}&Mask=4', Name.lower())\n",
        "\n",
        "    # Function to get the request made, see below.\n",
        "    raw_html = get_response(url)\n",
        "\n",
        "    # Parse the html using BeautifulSoup.\n",
        "    html = BeautifulSoup(raw_html, 'html.parser')\n",
        "\n",
        "    # Extract the table that contains the data, the table has a specific\n",
        "    # attributes 'aria-label' as 'Antoine Equation Parameters'.\n",
        "    table = html.find('table', attrs={'aria-label': 'Antoine Equation Parameters'})\n",
        "\n",
        "    return table\n",
        "\n",
        "\n",
        "def get_response(url):\n",
        "\n",
        "    \"\"\" Return the raw_html for parsing later or None if can't reach the page\n",
        "\n",
        "    :param url:\n",
        "        The string for the GET request.\n",
        "\n",
        "    :rtype: BeautifulSoup Object\n",
        "\n",
        "    :rtype: None if can't reach the website\n",
        "\n",
        "    \"\"\"\n",
        "\n",
        "    try:\n",
        "        with closing(get(url, stream=True)) as resp:\n",
        "            if is_good_response(resp):\n",
        "                return resp.content\n",
        "            else:\n",
        "                return None\n",
        "\n",
        "    except:\n",
        "        print('Not found')\n",
        "        return None\n",
        "\n",
        "\n",
        "def is_good_response(resp):\n",
        "    \"\"\"\n",
        "    Returns True if the response seems to be HTML, False otherwise.\n",
        "    \"\"\"\n",
        "    content_type = resp.headers['Content-Type'].lower()\n",
        "    return (resp.status_code == 200\n",
        "            and content_type is not None\n",
        "            and content_type.find('html') > -1)"
      ],
      "metadata": {
        "id": "haCnK-M9uH9A"
      },
      "execution_count": 1,
      "outputs": []
    },
    {
      "cell_type": "markdown",
      "source": [],
      "metadata": {
        "id": "bSKG5UKwz4OZ"
      }
    },
    {
      "cell_type": "markdown",
      "source": [
        "# Forma de la ec. de Antoine\n",
        "\n",
        "$$log_{10}(P) = A −\\frac{B}{T+C}$$\n",
        "\n",
        "P = Presión de vapor (bar),  T = temperatura (K)"
      ],
      "metadata": {
        "id": "xTPFCDHu1I7M"
      }
    },
    {
      "cell_type": "code",
      "source": [
        "import pandas as pd\n",
        "# Obtener las variables de la ecuación de Antoine\n",
        "print(\"Constantes de la Ec. de Antoine:\")\n",
        "nombre = input('Escribe el nombre del compuesto en inglés: ')\n",
        "T = float(input('Escribe la temperatura promedio del compuesto, K: '))\n",
        "A,B,C = get_antoine_coef(nombre,\n",
        "                  T)\n",
        "print(f'Tabla de constantes de Antoine para -{nombre}-, válidos a una temperatura de {T} Kelvin')\n",
        "print('Obtenidos de la base de Datos NIST:')\n",
        "print(f'URL = https://webbook.nist.gov/cgi/cbook.cgi?Name={nombre}&Mask=4')\n",
        "datosAntoine = pd.DataFrame({'Compuesto':nombre,\n",
        "                             'A':[A],\n",
        "                             'B':[B],\n",
        "                             'C':[C]})\n",
        "datosAntoine.set_index('Compuesto')"
      ],
      "metadata": {
        "colab": {
          "base_uri": "https://localhost:8080/",
          "height": 216
        },
        "id": "faeZZrnz1yNs",
        "outputId": "501f7815-6e9c-44e5-9f6e-c661991b03c2"
      },
      "execution_count": 2,
      "outputs": [
        {
          "output_type": "stream",
          "name": "stdout",
          "text": [
            "Constantes de la Ec. de Antoine:\n",
            "Escribe el nombre del compuesto en inglés: water\n",
            "Escribe la temperatura promedio del compuesto, K: 400\n",
            "Tabla de constantes de Antoine para -water-, válidos a una temperatura de 400.0 Kelvin\n",
            "Obtenidos de la base de Datos NIST:\n",
            "URL = https://webbook.nist.gov/cgi/cbook.cgi?Name=water&Mask=4\n"
          ]
        },
        {
          "output_type": "execute_result",
          "data": {
            "text/plain": [
              "                 A        B        C\n",
              "Compuesto                           \n",
              "water      3.55959  643.748 -198.043"
            ],
            "text/html": [
              "\n",
              "  <div id=\"df-afd2736b-4317-460a-921f-6b942660e657\" class=\"colab-df-container\">\n",
              "    <div>\n",
              "<style scoped>\n",
              "    .dataframe tbody tr th:only-of-type {\n",
              "        vertical-align: middle;\n",
              "    }\n",
              "\n",
              "    .dataframe tbody tr th {\n",
              "        vertical-align: top;\n",
              "    }\n",
              "\n",
              "    .dataframe thead th {\n",
              "        text-align: right;\n",
              "    }\n",
              "</style>\n",
              "<table border=\"1\" class=\"dataframe\">\n",
              "  <thead>\n",
              "    <tr style=\"text-align: right;\">\n",
              "      <th></th>\n",
              "      <th>A</th>\n",
              "      <th>B</th>\n",
              "      <th>C</th>\n",
              "    </tr>\n",
              "    <tr>\n",
              "      <th>Compuesto</th>\n",
              "      <th></th>\n",
              "      <th></th>\n",
              "      <th></th>\n",
              "    </tr>\n",
              "  </thead>\n",
              "  <tbody>\n",
              "    <tr>\n",
              "      <th>water</th>\n",
              "      <td>3.55959</td>\n",
              "      <td>643.748</td>\n",
              "      <td>-198.043</td>\n",
              "    </tr>\n",
              "  </tbody>\n",
              "</table>\n",
              "</div>\n",
              "    <div class=\"colab-df-buttons\">\n",
              "\n",
              "  <div class=\"colab-df-container\">\n",
              "    <button class=\"colab-df-convert\" onclick=\"convertToInteractive('df-afd2736b-4317-460a-921f-6b942660e657')\"\n",
              "            title=\"Convert this dataframe to an interactive table.\"\n",
              "            style=\"display:none;\">\n",
              "\n",
              "  <svg xmlns=\"http://www.w3.org/2000/svg\" height=\"24px\" viewBox=\"0 -960 960 960\">\n",
              "    <path d=\"M120-120v-720h720v720H120Zm60-500h600v-160H180v160Zm220 220h160v-160H400v160Zm0 220h160v-160H400v160ZM180-400h160v-160H180v160Zm440 0h160v-160H620v160ZM180-180h160v-160H180v160Zm440 0h160v-160H620v160Z\"/>\n",
              "  </svg>\n",
              "    </button>\n",
              "\n",
              "  <style>\n",
              "    .colab-df-container {\n",
              "      display:flex;\n",
              "      gap: 12px;\n",
              "    }\n",
              "\n",
              "    .colab-df-convert {\n",
              "      background-color: #E8F0FE;\n",
              "      border: none;\n",
              "      border-radius: 50%;\n",
              "      cursor: pointer;\n",
              "      display: none;\n",
              "      fill: #1967D2;\n",
              "      height: 32px;\n",
              "      padding: 0 0 0 0;\n",
              "      width: 32px;\n",
              "    }\n",
              "\n",
              "    .colab-df-convert:hover {\n",
              "      background-color: #E2EBFA;\n",
              "      box-shadow: 0px 1px 2px rgba(60, 64, 67, 0.3), 0px 1px 3px 1px rgba(60, 64, 67, 0.15);\n",
              "      fill: #174EA6;\n",
              "    }\n",
              "\n",
              "    .colab-df-buttons div {\n",
              "      margin-bottom: 4px;\n",
              "    }\n",
              "\n",
              "    [theme=dark] .colab-df-convert {\n",
              "      background-color: #3B4455;\n",
              "      fill: #D2E3FC;\n",
              "    }\n",
              "\n",
              "    [theme=dark] .colab-df-convert:hover {\n",
              "      background-color: #434B5C;\n",
              "      box-shadow: 0px 1px 3px 1px rgba(0, 0, 0, 0.15);\n",
              "      filter: drop-shadow(0px 1px 2px rgba(0, 0, 0, 0.3));\n",
              "      fill: #FFFFFF;\n",
              "    }\n",
              "  </style>\n",
              "\n",
              "    <script>\n",
              "      const buttonEl =\n",
              "        document.querySelector('#df-afd2736b-4317-460a-921f-6b942660e657 button.colab-df-convert');\n",
              "      buttonEl.style.display =\n",
              "        google.colab.kernel.accessAllowed ? 'block' : 'none';\n",
              "\n",
              "      async function convertToInteractive(key) {\n",
              "        const element = document.querySelector('#df-afd2736b-4317-460a-921f-6b942660e657');\n",
              "        const dataTable =\n",
              "          await google.colab.kernel.invokeFunction('convertToInteractive',\n",
              "                                                    [key], {});\n",
              "        if (!dataTable) return;\n",
              "\n",
              "        const docLinkHtml = 'Like what you see? Visit the ' +\n",
              "          '<a target=\"_blank\" href=https://colab.research.google.com/notebooks/data_table.ipynb>data table notebook</a>'\n",
              "          + ' to learn more about interactive tables.';\n",
              "        element.innerHTML = '';\n",
              "        dataTable['output_type'] = 'display_data';\n",
              "        await google.colab.output.renderOutput(dataTable, element);\n",
              "        const docLink = document.createElement('div');\n",
              "        docLink.innerHTML = docLinkHtml;\n",
              "        element.appendChild(docLink);\n",
              "      }\n",
              "    </script>\n",
              "  </div>\n",
              "\n",
              "\n",
              "    </div>\n",
              "  </div>\n"
            ],
            "application/vnd.google.colaboratory.intrinsic+json": {
              "type": "dataframe",
              "summary": "{\n  \"name\": \"datosAntoine\",\n  \"rows\": 1,\n  \"fields\": [\n    {\n      \"column\": \"Compuesto\",\n      \"properties\": {\n        \"dtype\": \"string\",\n        \"num_unique_values\": 1,\n        \"samples\": [\n          \"water\"\n        ],\n        \"semantic_type\": \"\",\n        \"description\": \"\"\n      }\n    },\n    {\n      \"column\": \"A\",\n      \"properties\": {\n        \"dtype\": \"number\",\n        \"std\": null,\n        \"min\": 3.55959,\n        \"max\": 3.55959,\n        \"num_unique_values\": 1,\n        \"samples\": [\n          3.55959\n        ],\n        \"semantic_type\": \"\",\n        \"description\": \"\"\n      }\n    },\n    {\n      \"column\": \"B\",\n      \"properties\": {\n        \"dtype\": \"number\",\n        \"std\": null,\n        \"min\": 643.748,\n        \"max\": 643.748,\n        \"num_unique_values\": 1,\n        \"samples\": [\n          643.748\n        ],\n        \"semantic_type\": \"\",\n        \"description\": \"\"\n      }\n    },\n    {\n      \"column\": \"C\",\n      \"properties\": {\n        \"dtype\": \"number\",\n        \"std\": null,\n        \"min\": -198.043,\n        \"max\": -198.043,\n        \"num_unique_values\": 1,\n        \"samples\": [\n          -198.043\n        ],\n        \"semantic_type\": \"\",\n        \"description\": \"\"\n      }\n    }\n  ]\n}"
            }
          },
          "metadata": {},
          "execution_count": 2
        }
      ]
    },
    {
      "cell_type": "markdown",
      "source": [
        "# Valores Puntuales:"
      ],
      "metadata": {
        "id": "DCse-8tJEWk8"
      }
    },
    {
      "cell_type": "markdown",
      "source": [
        "# Cálculo de la Presión de saturación de la sustancia:\n",
        "# Forma de la ec. de Antoine\n",
        "\n",
        "$$log_{10}(P) = A −\\frac{B}{T+C}$$\n",
        "\n",
        "P = Presión de vapor (bar),  T = temperatura (K)\n",
        "\n",
        "$$P^{sat} = 10^{A −\\frac{B}{T^{sat}+C}}$$"
      ],
      "metadata": {
        "id": "jKGP6T-wA5_M"
      }
    },
    {
      "cell_type": "code",
      "source": [
        "print('Determinación de la Presión de saturación de un sistema:')\n",
        "Tsat = float(input('Escribe el valor de la temperatura de saturación en °C: '))\n",
        "Psat = 10**(datosAntoine['A']-datosAntoine['B']/(Tsat + 273.15 + datosAntoine['C']))\n",
        "print(f\"La presión de saturación de '{datosAntoine['Compuesto'][0]}' calculada, es de {Psat[0]} bar\")\n",
        "print(f\"Psat = {Psat[0]*100} kPa\")"
      ],
      "metadata": {
        "colab": {
          "base_uri": "https://localhost:8080/"
        },
        "id": "DPjC5bDxA99c",
        "outputId": "57997493-d3d9-4f20-ffb1-87479228c41d"
      },
      "execution_count": 3,
      "outputs": [
        {
          "output_type": "stream",
          "name": "stdout",
          "text": [
            "Determinación de la Presión de saturación de un sistema:\n",
            "Escribe el valor de la temperatura de saturación en °C: 100\n",
            "La presión de saturación de water calculada, es de 0.7643245377276982 bar\n",
            "Psat = 76.43245377276982 kPa\n"
          ]
        }
      ]
    },
    {
      "cell_type": "markdown",
      "source": [
        "# Cálculo de la Temperatura de Saturación de la sustancia:\n",
        "\n",
        "$$T(°C) = \\frac{B}{(A-log_{10}P(bar))}-C$$"
      ],
      "metadata": {
        "id": "N48m3LW_A--q"
      }
    },
    {
      "cell_type": "code",
      "source": [
        "import math\n",
        "print('Determinación de la temperatura de saturación de un sistema:')\n",
        "Psatc = float(input('Escribe el valor de la presión de saturación en bar: '))\n",
        "\n",
        "Tsatc = datosAntoine['B']/(datosAntoine['A']-math.log10(Psatc))-datosAntoine['C']\n",
        "\n",
        "print(f\"La temperatura de saturación de '{datosAntoine['Compuesto'][0]}', calculada es de {Tsatc[0]} K\")\n",
        "print(f\"Tsat = {Tsatc[0]-273.15} °C\")\n"
      ],
      "metadata": {
        "colab": {
          "base_uri": "https://localhost:8080/"
        },
        "id": "fr1Lrl2h7iWn",
        "outputId": "25e426b0-f234-4b44-8c5c-ebf438f888ff"
      },
      "execution_count": 12,
      "outputs": [
        {
          "output_type": "stream",
          "name": "stdout",
          "text": [
            "Determinación de la temperatura de saturación de un sistema:\n",
            "Escribe el valor de la presión de saturación en bar: 7\n",
            "La temperatura de saturación de 'water', calculada es de 435.1952957111213 K\n",
            "Tsat = 162.0452957111213 °C\n"
          ]
        }
      ]
    }
  ]
}