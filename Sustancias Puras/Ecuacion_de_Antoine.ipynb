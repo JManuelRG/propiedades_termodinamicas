{
  "nbformat": 4,
  "nbformat_minor": 0,
  "metadata": {
    "colab": {
      "provenance": [],
      "authorship_tag": "ABX9TyM0L4q62ZtTMnoOaW/bVjpp",
      "include_colab_link": true
    },
    "kernelspec": {
      "name": "python3",
      "display_name": "Python 3"
    },
    "language_info": {
      "name": "python"
    }
  },
  "cells": [
    {
      "cell_type": "markdown",
      "metadata": {
        "id": "view-in-github",
        "colab_type": "text"
      },
      "source": [
        "<a href=\"https://colab.research.google.com/github/JManuelRG/propiedades_termodinamicas/blob/main/Sustancias%20Puras/Ecuacion_de_Antoine.ipynb\" target=\"_parent\"><img src=\"https://colab.research.google.com/assets/colab-badge.svg\" alt=\"Open In Colab\"/></a>"
      ]
    },
    {
      "cell_type": "markdown",
      "source": [
        "#Ecuación de Antoine\n",
        "# Contantes Obtenidas de la base de datos web de NIST:\n",
        "\n",
        "https://webbook.nist.gov/chemistry/\n",
        "\n",
        "# Web scrapper:\n",
        "https://github.com/oscarcontrerasnavas/NIST-web-book-scraping/blob/master/README.md\n",
        "\n",
        "https://pypi.org/project/beautifulsoup4/\n"
      ],
      "metadata": {
        "id": "c1qeY6TzuHoD"
      }
    },
    {
      "cell_type": "markdown",
      "source": [
        "# Instrucciones:\n",
        "\n",
        "Ejecutar la siguiente función para obtener los parámetros de la ecuación de Antoine.\n",
        "\n",
        "La celda es un Web Scrapper que buscará el compuesto en la base de datos de NIST y obtendrá los datos para ese compuesto."
      ],
      "metadata": {
        "id": "ocO2vulEx6aE"
      }
    },
    {
      "cell_type": "code",
      "source": [
        "# Importar la función get del módulo requests porque es la función encargada de\n",
        "# hacer la solicitud HTTP GET con la URL proporcionada.\n",
        "from requests import get\n",
        "\n",
        "# Importar BeautifulSoup de bs4 porque hace el análisis HTML y nos ayuda a\n",
        "# manejar el DOM.\n",
        "from bs4 import BeautifulSoup\n",
        "\n",
        "# Importar closing para asegurar que cualquier recurso de red se libere cuando\n",
        "# salga de alcance.\n",
        "from contextlib import closing\n",
        "\n",
        "def get_antoine_coef(Nombre, Temperatura):\n",
        "\n",
        "    \"\"\" Devuelve una lista con los coeficientes A, B y C si existen para la\n",
        "        Temperatura dada. Si no, retorna None e imprime un mensaje.\n",
        "\n",
        "    :param Nombre:\n",
        "        Una cadena con el nombre del compuesto en inglés.\n",
        "\n",
        "    :param Temperatura:\n",
        "        Un número flotante con la temperatura en Kelvin.\n",
        "\n",
        "    :rtype: Lista\n",
        "\n",
        "    :return coef con [A, B, C]\n",
        "\n",
        "    \"\"\"\n",
        "\n",
        "    # Obteniendo la tabla usando la función get_html mostrada abajo. Table es un\n",
        "    # Objeto BeautifulSoup.\n",
        "    tabla = get_html_table(Nombre)\n",
        "\n",
        "    # Extraer las filas de la tabla. Sabiendo qué etiquetas tiene una tabla HTML.\n",
        "    # Además, sabiendo que la primera fila con el encabezado de la tabla no tiene el\n",
        "    # atributo de clase 'exp' así que obtenemos solo las filas con datos.\n",
        "    # La función find_all de BeautifulSoup devuelve una lista.\n",
        "    filas = tabla.find_all('tr', class_='exp')\n",
        "\n",
        "    # Declarar las listas para almacenar Temperaturas y coeficientes.\n",
        "    Temperaturas, As, Bs, Cs = [], [], [], []\n",
        "\n",
        "    # Iterando sobre las filas para extraer y llenar las variables As, Bs y Cs porque ahora\n",
        "    # estamos seguros de que las Temperaturas están entre algún rango.\n",
        "    for fila in filas:\n",
        "\n",
        "        # Como las filas, extraemos las columnas para la fila actual. Sabiendo que\n",
        "        # las columnas tienen la etiqueta <td> en HTML también.\n",
        "        # La función find_all de BeautifulSoup devuelve una lista.\n",
        "        cols =  fila.find_all('td')\n",
        "\n",
        "        # Primero transformamos las cadenas en números flotantes y las colocamos en su\n",
        "        # respectiva lista.\n",
        "        As.append(float(cols[1].text))\n",
        "        Bs.append(float(cols[2].text))\n",
        "        Cs.append(float(cols[3].text))\n",
        "\n",
        "        # Para las temperaturas, tenemos un rango y necesitamos extraer cada\n",
        "        # límite (inferior y superior) y colocarlos en una lista adicional. Así que\n",
        "        # la variable Temperatures será una lista de listas.\n",
        "        limite_inferior = float(cols[0].text.replace(\" \",\"\").split('-')[0])\n",
        "        limite_superior = float(cols[0].text.replace(\" \",\"\").split('-')[1])\n",
        "        Temperaturas.append([limite_inferior, limite_superior])\n",
        "\n",
        "\n",
        "    # Verificar si la Temperatura dada se encuentra en algún intervalo\n",
        "    indice = None\n",
        "    for i, intervalo in enumerate(Temperaturas):\n",
        "        if (intervalo[0] <= Temperatura\n",
        "            and Temperatura <= intervalo[1]):\n",
        "            indice = i\n",
        "            break\n",
        "        else:\n",
        "            indice = None\n",
        "\n",
        "    if indice == None:\n",
        "        print('Lo siento, los datos para la temperatura dada %.2f K no existen en la Base de Datos' % Temperatura)\n",
        "        return None\n",
        "    else:\n",
        "        A = As[indice]\n",
        "        B = Bs[indice]\n",
        "        C = Cs[indice]\n",
        "        return [A, B, C]\n",
        "\n",
        "\n",
        "def get_html_table(Nombre):\n",
        "\n",
        "    \"\"\" Retorna el HTML ya parseado usando una función auxiliar listada abajo.\n",
        "\n",
        "    :param Nombre:\n",
        "        Una cadena con el nombre del compuesto en inglés.\n",
        "\n",
        "    :rtype: Objeto BeautifulSoup\n",
        "\n",
        "    \"\"\"\n",
        "\n",
        "    # El parámetro name es parte de la URL. Por ejemplo, si deseas los\n",
        "    # datos de metano, la URL es\n",
        "    # https://webbook.nist.gov/cgi/cbook.cgi?Name=methane&Mask=4.\n",
        "    url = str.format('https://webbook.nist.gov/cgi/cbook.cgi?Name={0}&Mask=4', Nombre.lower())\n",
        "\n",
        "    # Función para obtener la solicitud realizada, ver más abajo.\n",
        "    html_bruto = get_response(url)\n",
        "\n",
        "    # Parsear el HTML usando BeautifulSoup.\n",
        "    html = BeautifulSoup(html_bruto, 'html.parser')\n",
        "\n",
        "    # Extraer la tabla que contiene los datos, la tabla tiene un\n",
        "    # atributo específico 'aria-label' como 'Antoine Equation Parameters'.\n",
        "    tabla = html.find('table', attrs={'aria-label': 'Antoine Equation Parameters'})\n",
        "\n",
        "    return tabla\n",
        "\n",
        "\n",
        "def get_response(url):\n",
        "\n",
        "    \"\"\" Retorna el HTML sin procesar para analizarlo más tarde o None si no se puede acceder a la página.\n",
        "\n",
        "    :param url:\n",
        "        La cadena para la solicitud GET.\n",
        "\n",
        "    :rtype: Objeto BeautifulSoup\n",
        "\n",
        "    :rtype: None si no se puede acceder al sitio web\n",
        "\n",
        "    \"\"\"\n",
        "\n",
        "    try:\n",
        "        with closing(get(url, stream=True)) as resp:\n",
        "            if is_good_response(resp):\n",
        "                return resp.content\n",
        "            else:\n",
        "                return None\n",
        "\n",
        "    except:\n",
        "        print('No encontrado')\n",
        "        return None\n",
        "\n",
        "\n",
        "def is_good_response(resp):\n",
        "    \"\"\"\n",
        "    Retorna True si la respuesta parece ser HTML, False en caso contrario.\n",
        "    \"\"\"\n",
        "    tipo_contenido = resp.headers['Content-Type'].lower()\n",
        "    return (resp.status_code == 200\n",
        "            and tipo_contenido is not None\n",
        "            and tipo_contenido.find('html') > -1)\n"
      ],
      "metadata": {
        "id": "haCnK-M9uH9A"
      },
      "execution_count": 17,
      "outputs": []
    },
    {
      "cell_type": "markdown",
      "source": [],
      "metadata": {
        "id": "bSKG5UKwz4OZ"
      }
    },
    {
      "cell_type": "markdown",
      "source": [
        "# Forma de la ec. de Antoine\n",
        "\n",
        "$$log_{10}(P) = A −\\frac{B}{T+C}$$\n",
        "\n",
        "P = Presión de vapor (bar),  T = temperatura (K)"
      ],
      "metadata": {
        "id": "xTPFCDHu1I7M"
      }
    },
    {
      "cell_type": "code",
      "source": [
        "import pandas as pd\n",
        "# Obtener las variables de la ecuación de Antoine\n",
        "print(\"Constantes de la Ec. de Antoine:\")\n",
        "nombre = input('Escribe el nombre del compuesto en inglés: ')\n",
        "T = float(input('Escribe la temperatura promedio del compuesto, K: '))\n",
        "A,B,C = get_antoine_coef(nombre,\n",
        "                  T)\n",
        "print(f'Tabla de constantes de Antoine para -{nombre}-, válidos a una temperatura de {T} Kelvin')\n",
        "print('Obtenidos de la base de Datos NIST:')\n",
        "print(f'URL = https://webbook.nist.gov/cgi/cbook.cgi?Name={nombre}&Mask=4')\n",
        "datosAntoine = pd.DataFrame({'Compuesto':nombre,\n",
        "                             'A':[A],\n",
        "                             'B':[B],\n",
        "                             'C':[C]})\n",
        "datosAntoine.set_index('Compuesto')"
      ],
      "metadata": {
        "colab": {
          "base_uri": "https://localhost:8080/",
          "height": 216
        },
        "id": "faeZZrnz1yNs",
        "outputId": "1e16f171-0718-4696-fd8b-3cc3aeed922c"
      },
      "execution_count": 18,
      "outputs": [
        {
          "output_type": "stream",
          "name": "stdout",
          "text": [
            "Constantes de la Ec. de Antoine:\n",
            "Escribe el nombre del compuesto en inglés: water\n",
            "Escribe la temperatura promedio del compuesto, K: 350\n",
            "Tabla de constantes de Antoine para -water-, válidos a una temperatura de 350.0 Kelvin\n",
            "Obtenidos de la base de Datos NIST:\n",
            "URL = https://webbook.nist.gov/cgi/cbook.cgi?Name=water&Mask=4\n"
          ]
        },
        {
          "output_type": "execute_result",
          "data": {
            "text/plain": [
              "                A         B       C\n",
              "Compuesto                          \n",
              "water      5.0768  1659.793 -45.854"
            ],
            "text/html": [
              "\n",
              "  <div id=\"df-0ea384fa-4a02-44e4-bbf5-66b820105c2c\" class=\"colab-df-container\">\n",
              "    <div>\n",
              "<style scoped>\n",
              "    .dataframe tbody tr th:only-of-type {\n",
              "        vertical-align: middle;\n",
              "    }\n",
              "\n",
              "    .dataframe tbody tr th {\n",
              "        vertical-align: top;\n",
              "    }\n",
              "\n",
              "    .dataframe thead th {\n",
              "        text-align: right;\n",
              "    }\n",
              "</style>\n",
              "<table border=\"1\" class=\"dataframe\">\n",
              "  <thead>\n",
              "    <tr style=\"text-align: right;\">\n",
              "      <th></th>\n",
              "      <th>A</th>\n",
              "      <th>B</th>\n",
              "      <th>C</th>\n",
              "    </tr>\n",
              "    <tr>\n",
              "      <th>Compuesto</th>\n",
              "      <th></th>\n",
              "      <th></th>\n",
              "      <th></th>\n",
              "    </tr>\n",
              "  </thead>\n",
              "  <tbody>\n",
              "    <tr>\n",
              "      <th>water</th>\n",
              "      <td>5.0768</td>\n",
              "      <td>1659.793</td>\n",
              "      <td>-45.854</td>\n",
              "    </tr>\n",
              "  </tbody>\n",
              "</table>\n",
              "</div>\n",
              "    <div class=\"colab-df-buttons\">\n",
              "\n",
              "  <div class=\"colab-df-container\">\n",
              "    <button class=\"colab-df-convert\" onclick=\"convertToInteractive('df-0ea384fa-4a02-44e4-bbf5-66b820105c2c')\"\n",
              "            title=\"Convert this dataframe to an interactive table.\"\n",
              "            style=\"display:none;\">\n",
              "\n",
              "  <svg xmlns=\"http://www.w3.org/2000/svg\" height=\"24px\" viewBox=\"0 -960 960 960\">\n",
              "    <path d=\"M120-120v-720h720v720H120Zm60-500h600v-160H180v160Zm220 220h160v-160H400v160Zm0 220h160v-160H400v160ZM180-400h160v-160H180v160Zm440 0h160v-160H620v160ZM180-180h160v-160H180v160Zm440 0h160v-160H620v160Z\"/>\n",
              "  </svg>\n",
              "    </button>\n",
              "\n",
              "  <style>\n",
              "    .colab-df-container {\n",
              "      display:flex;\n",
              "      gap: 12px;\n",
              "    }\n",
              "\n",
              "    .colab-df-convert {\n",
              "      background-color: #E8F0FE;\n",
              "      border: none;\n",
              "      border-radius: 50%;\n",
              "      cursor: pointer;\n",
              "      display: none;\n",
              "      fill: #1967D2;\n",
              "      height: 32px;\n",
              "      padding: 0 0 0 0;\n",
              "      width: 32px;\n",
              "    }\n",
              "\n",
              "    .colab-df-convert:hover {\n",
              "      background-color: #E2EBFA;\n",
              "      box-shadow: 0px 1px 2px rgba(60, 64, 67, 0.3), 0px 1px 3px 1px rgba(60, 64, 67, 0.15);\n",
              "      fill: #174EA6;\n",
              "    }\n",
              "\n",
              "    .colab-df-buttons div {\n",
              "      margin-bottom: 4px;\n",
              "    }\n",
              "\n",
              "    [theme=dark] .colab-df-convert {\n",
              "      background-color: #3B4455;\n",
              "      fill: #D2E3FC;\n",
              "    }\n",
              "\n",
              "    [theme=dark] .colab-df-convert:hover {\n",
              "      background-color: #434B5C;\n",
              "      box-shadow: 0px 1px 3px 1px rgba(0, 0, 0, 0.15);\n",
              "      filter: drop-shadow(0px 1px 2px rgba(0, 0, 0, 0.3));\n",
              "      fill: #FFFFFF;\n",
              "    }\n",
              "  </style>\n",
              "\n",
              "    <script>\n",
              "      const buttonEl =\n",
              "        document.querySelector('#df-0ea384fa-4a02-44e4-bbf5-66b820105c2c button.colab-df-convert');\n",
              "      buttonEl.style.display =\n",
              "        google.colab.kernel.accessAllowed ? 'block' : 'none';\n",
              "\n",
              "      async function convertToInteractive(key) {\n",
              "        const element = document.querySelector('#df-0ea384fa-4a02-44e4-bbf5-66b820105c2c');\n",
              "        const dataTable =\n",
              "          await google.colab.kernel.invokeFunction('convertToInteractive',\n",
              "                                                    [key], {});\n",
              "        if (!dataTable) return;\n",
              "\n",
              "        const docLinkHtml = 'Like what you see? Visit the ' +\n",
              "          '<a target=\"_blank\" href=https://colab.research.google.com/notebooks/data_table.ipynb>data table notebook</a>'\n",
              "          + ' to learn more about interactive tables.';\n",
              "        element.innerHTML = '';\n",
              "        dataTable['output_type'] = 'display_data';\n",
              "        await google.colab.output.renderOutput(dataTable, element);\n",
              "        const docLink = document.createElement('div');\n",
              "        docLink.innerHTML = docLinkHtml;\n",
              "        element.appendChild(docLink);\n",
              "      }\n",
              "    </script>\n",
              "  </div>\n",
              "\n",
              "\n",
              "    </div>\n",
              "  </div>\n"
            ],
            "application/vnd.google.colaboratory.intrinsic+json": {
              "type": "dataframe",
              "summary": "{\n  \"name\": \"datosAntoine\",\n  \"rows\": 1,\n  \"fields\": [\n    {\n      \"column\": \"Compuesto\",\n      \"properties\": {\n        \"dtype\": \"string\",\n        \"num_unique_values\": 1,\n        \"samples\": [\n          \"water\"\n        ],\n        \"semantic_type\": \"\",\n        \"description\": \"\"\n      }\n    },\n    {\n      \"column\": \"A\",\n      \"properties\": {\n        \"dtype\": \"number\",\n        \"std\": null,\n        \"min\": 5.0768,\n        \"max\": 5.0768,\n        \"num_unique_values\": 1,\n        \"samples\": [\n          5.0768\n        ],\n        \"semantic_type\": \"\",\n        \"description\": \"\"\n      }\n    },\n    {\n      \"column\": \"B\",\n      \"properties\": {\n        \"dtype\": \"number\",\n        \"std\": null,\n        \"min\": 1659.793,\n        \"max\": 1659.793,\n        \"num_unique_values\": 1,\n        \"samples\": [\n          1659.793\n        ],\n        \"semantic_type\": \"\",\n        \"description\": \"\"\n      }\n    },\n    {\n      \"column\": \"C\",\n      \"properties\": {\n        \"dtype\": \"number\",\n        \"std\": null,\n        \"min\": -45.854,\n        \"max\": -45.854,\n        \"num_unique_values\": 1,\n        \"samples\": [\n          -45.854\n        ],\n        \"semantic_type\": \"\",\n        \"description\": \"\"\n      }\n    }\n  ]\n}"
            }
          },
          "metadata": {},
          "execution_count": 18
        }
      ]
    },
    {
      "cell_type": "markdown",
      "source": [
        "# Valores Puntuales:"
      ],
      "metadata": {
        "id": "DCse-8tJEWk8"
      }
    },
    {
      "cell_type": "markdown",
      "source": [
        "# Cálculo de la Presión de saturación de la sustancia:\n",
        "# Forma de la ec. de Antoine\n",
        "\n",
        "$$log_{10}(P) = A −\\frac{B}{T+C}$$\n",
        "\n",
        "P = Presión de vapor (bar),  T = temperatura (K)\n",
        "\n",
        "$$P^{sat} = 10^{A −\\frac{B}{T^{sat}+C}}$$"
      ],
      "metadata": {
        "id": "jKGP6T-wA5_M"
      }
    },
    {
      "cell_type": "code",
      "source": [
        "print('Determinación de la Presión de saturación de un sistema:')\n",
        "Tsat = float(input('Escribe el valor de la temperatura de saturación en °C: '))\n",
        "Psat = 10**(datosAntoine['A']-datosAntoine['B']/(Tsat + 273.15 + datosAntoine['C']))\n",
        "print(f\"La presión de saturación de '{datosAntoine['Compuesto'][0]}' calculada, es de {Psat[0]} bar\")\n",
        "print(f\"Psat = {Psat[0]*100} kPa\")"
      ],
      "metadata": {
        "colab": {
          "base_uri": "https://localhost:8080/"
        },
        "id": "DPjC5bDxA99c",
        "outputId": "38e87f4e-c5cb-46f5-e982-bf0758d376a6"
      },
      "execution_count": 6,
      "outputs": [
        {
          "output_type": "stream",
          "name": "stdout",
          "text": [
            "Determinación de la Presión de saturación de un sistema:\n",
            "Escribe el valor de la temperatura de saturación en °C: 75\n",
            "La presión de saturación de 'water' calculada, es de 0.3856365823351287 bar\n",
            "Psat = 38.56365823351287 kPa\n"
          ]
        }
      ]
    },
    {
      "cell_type": "markdown",
      "source": [
        "# Cálculo de la Temperatura de Saturación de la sustancia:\n",
        "\n",
        "$$T(°C) = \\frac{B}{(A-log_{10}P(bar))}-C$$"
      ],
      "metadata": {
        "id": "N48m3LW_A--q"
      }
    },
    {
      "cell_type": "code",
      "source": [
        "import math\n",
        "print('Determinación de la temperatura de saturación de un sistema:')\n",
        "Psatc = float(input('Escribe el valor de la presión de saturación en bar: '))\n",
        "\n",
        "Tsatc = datosAntoine['B']/(datosAntoine['A']-math.log10(Psatc))-datosAntoine['C']\n",
        "\n",
        "print(f\"Latemperatura de saturación de {datosAntoine['Compuesto'][0]}, calculada es de {Psatc} bar\")\n",
        "print(f\"Tsat = {Tsatc[0]-273.15} °C\")\n"
      ],
      "metadata": {
        "colab": {
          "base_uri": "https://localhost:8080/"
        },
        "id": "fr1Lrl2h7iWn",
        "outputId": "7634665b-26d9-4a37-aced-3351f5244818"
      },
      "execution_count": 23,
      "outputs": [
        {
          "output_type": "stream",
          "name": "stdout",
          "text": [
            "Determinación de la temperatura de saturación de un sistema:\n",
            "Escribe el valor de la presión de saturación en bar: .4\n",
            "Latemperatura de saturación de water, calculada es de 0.4 bar\n",
            "Tsat = 75.8769355861416 °C\n"
          ]
        }
      ]
    },
    {
      "cell_type": "code",
      "source": [
        "Psatc"
      ],
      "metadata": {
        "id": "w42d_41BBsZ4",
        "outputId": "85160ddc-e7a4-48c6-fcec-192d7bd89e15",
        "colab": {
          "base_uri": "https://localhost:8080/"
        }
      },
      "execution_count": 22,
      "outputs": [
        {
          "output_type": "execute_result",
          "data": {
            "text/plain": [
              "0.4"
            ]
          },
          "metadata": {},
          "execution_count": 22
        }
      ]
    },
    {
      "cell_type": "code",
      "source": [],
      "metadata": {
        "id": "ZlyPn6eyBrAq"
      },
      "execution_count": null,
      "outputs": []
    }
  ]
}