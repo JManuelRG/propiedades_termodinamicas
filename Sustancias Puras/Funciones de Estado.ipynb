{
  "nbformat": 4,
  "nbformat_minor": 0,
  "metadata": {
    "colab": {
      "provenance": [],
      "authorship_tag": "ABX9TyNl0LK1HWuC5GPJ4mXFmdsx",
      "include_colab_link": true
    },
    "kernelspec": {
      "name": "python3",
      "display_name": "Python 3"
    },
    "language_info": {
      "name": "python"
    }
  },
  "cells": [
    {
      "cell_type": "markdown",
      "metadata": {
        "id": "view-in-github",
        "colab_type": "text"
      },
      "source": [
        "<a href=\"https://colab.research.google.com/github/JManuelRG/propiedades_termodinamicas/blob/main/Sustancias%20Puras/Funciones%20de%20Estado.ipynb\" target=\"_parent\"><img src=\"https://colab.research.google.com/assets/colab-badge.svg\" alt=\"Open In Colab\"/></a>"
      ]
    },
    {
      "cell_type": "markdown",
      "source": [
        "# Determinación de propíedades de sustancias puras\n",
        "\n",
        "# Librería CoolProp"
      ],
      "metadata": {
        "id": "27uuPp3kClJC"
      }
    },
    {
      "cell_type": "markdown",
      "source": [
        "## Instrucciones\n",
        "1. Instalar e importar la librería a este cuaderno con el comando de instalación siguiente\n"
      ],
      "metadata": {
        "id": "QOXNymXkHI6F"
      }
    },
    {
      "cell_type": "code",
      "source": [
        "!pip install CoolProp"
      ],
      "metadata": {
        "colab": {
          "base_uri": "https://localhost:8080/"
        },
        "id": "zJ_Pa10kHJik",
        "outputId": "0a4ae5e7-0410-4f1e-8ec9-4249fdf32445"
      },
      "execution_count": 1,
      "outputs": [
        {
          "output_type": "stream",
          "name": "stdout",
          "text": [
            "Collecting CoolProp\n",
            "  Downloading CoolProp-6.6.0-cp310-cp310-manylinux_2_17_x86_64.manylinux2014_x86_64.whl (7.0 MB)\n",
            "\u001b[2K     \u001b[90m━━━━━━━━━━━━━━━━━━━━━━━━━━━━━━━━━━━━━━━━\u001b[0m \u001b[32m7.0/7.0 MB\u001b[0m \u001b[31m14.7 MB/s\u001b[0m eta \u001b[36m0:00:00\u001b[0m\n",
            "\u001b[?25hInstalling collected packages: CoolProp\n",
            "Successfully installed CoolProp-6.6.0\n"
          ]
        }
      ]
    },
    {
      "cell_type": "markdown",
      "source": [
        "# Determinación\n",
        "Para determinar las funciones de estado de una sustancia pura en unidades SI, ejecutar la siguiente celda.\n",
        "\n",
        "Instruciones:\n",
        "\n",
        "a) Escribir la Temperatura en K.\n",
        "\n",
        "b) Escribir la Presión en Pa.\n",
        "\n",
        "c) Escribir el nombre de la sustancia, de acuerdo a la siguiente tabla:\n",
        "\n",
        "Sustancias incluidas: http://www.coolprop.org/fluid_properties/PurePseudoPure.html#list-of-fluids"
      ],
      "metadata": {
        "id": "o2ZkG0EWHR4L"
      }
    },
    {
      "cell_type": "code",
      "source": [
        "# Funciones de estado\n",
        "from CoolProp.CoolProp import PropsSI\n",
        "import pandas as pd\n",
        "def func_estado():\n",
        "  sust=input(\"Escribe la fórmula de la sustancia: \")\n",
        "  T = float(input(\"T (K)= \"))\n",
        "  P =float(input(\"P (Pa))= \"))\n",
        "  tablamolar = {\"H (J/mol)\":[PropsSI('Hmolar', 'T', T, 'P', P, sust)],\n",
        "           \"U (J/mol)\":[PropsSI('Umolar', 'T', T, 'P', P, sust)],\n",
        "           \"S (J/mol)\":[PropsSI('Smolar', 'T', T, 'P', P, sust)],\n",
        "           \"G (J/mol)\":[PropsSI('Gmolar', 'T', T, 'P', P, sust)]}\n",
        "  tablamasa = {\"H J/kg\":[PropsSI('H', 'T', T, 'P', P, sust)],\n",
        "           \"U J/kg\":[PropsSI('U', 'T', T, 'P', P, sust)],\n",
        "           \"S J/kg\":[PropsSI('S', 'T', T, 'P', P, sust)],\n",
        "           \"G kg\":[PropsSI('G', 'T', T, 'P', P, sust)]}\n",
        "  tablaf1 = pd.DataFrame(tablamolar)\n",
        "  tablaf2 = pd.DataFrame(tablamasa)\n",
        "  print('\\n')\n",
        "  print(f'Funciones de estado molares de {sust} a T={T} K y P={P} Pa')\n",
        "  display(tablaf1)\n",
        "  print('\\n')\n",
        "  print(f'Funciones de estado másicas de {sust} a T={T} K y P={P} Pa')\n",
        "  display(tablaf2)\n",
        "\n",
        "func_estado()"
      ],
      "metadata": {
        "colab": {
          "base_uri": "https://localhost:8080/",
          "height": 300
        },
        "id": "wKe-Yn0JCnqT",
        "outputId": "613331d8-4d87-44cc-f33b-6f23940547d7"
      },
      "execution_count": 21,
      "outputs": [
        {
          "output_type": "stream",
          "name": "stdout",
          "text": [
            "Escribe la fórmula de la sustancia: CO2\n",
            "T (K)= 300\n",
            "P (Pa))= 1e5\n",
            "\n",
            "\n",
            "Funciones de estado molares de CO2 a T=300.0 K y P=100000.0 Pa\n"
          ]
        },
        {
          "output_type": "display_data",
          "data": {
            "text/plain": [
              "      H (J/mol)     U (J/mol)   S (J/mol)     G (J/mol)\n",
              "0  22331.863751  19849.678498  120.788976 -13904.829154"
            ],
            "text/html": [
              "\n",
              "  <div id=\"df-34c55545-573b-490c-8560-010903efb57a\" class=\"colab-df-container\">\n",
              "    <div>\n",
              "<style scoped>\n",
              "    .dataframe tbody tr th:only-of-type {\n",
              "        vertical-align: middle;\n",
              "    }\n",
              "\n",
              "    .dataframe tbody tr th {\n",
              "        vertical-align: top;\n",
              "    }\n",
              "\n",
              "    .dataframe thead th {\n",
              "        text-align: right;\n",
              "    }\n",
              "</style>\n",
              "<table border=\"1\" class=\"dataframe\">\n",
              "  <thead>\n",
              "    <tr style=\"text-align: right;\">\n",
              "      <th></th>\n",
              "      <th>H (J/mol)</th>\n",
              "      <th>U (J/mol)</th>\n",
              "      <th>S (J/mol)</th>\n",
              "      <th>G (J/mol)</th>\n",
              "    </tr>\n",
              "  </thead>\n",
              "  <tbody>\n",
              "    <tr>\n",
              "      <th>0</th>\n",
              "      <td>22331.863751</td>\n",
              "      <td>19849.678498</td>\n",
              "      <td>120.788976</td>\n",
              "      <td>-13904.829154</td>\n",
              "    </tr>\n",
              "  </tbody>\n",
              "</table>\n",
              "</div>\n",
              "    <div class=\"colab-df-buttons\">\n",
              "\n",
              "  <div class=\"colab-df-container\">\n",
              "    <button class=\"colab-df-convert\" onclick=\"convertToInteractive('df-34c55545-573b-490c-8560-010903efb57a')\"\n",
              "            title=\"Convert this dataframe to an interactive table.\"\n",
              "            style=\"display:none;\">\n",
              "\n",
              "  <svg xmlns=\"http://www.w3.org/2000/svg\" height=\"24px\" viewBox=\"0 -960 960 960\">\n",
              "    <path d=\"M120-120v-720h720v720H120Zm60-500h600v-160H180v160Zm220 220h160v-160H400v160Zm0 220h160v-160H400v160ZM180-400h160v-160H180v160Zm440 0h160v-160H620v160ZM180-180h160v-160H180v160Zm440 0h160v-160H620v160Z\"/>\n",
              "  </svg>\n",
              "    </button>\n",
              "\n",
              "  <style>\n",
              "    .colab-df-container {\n",
              "      display:flex;\n",
              "      gap: 12px;\n",
              "    }\n",
              "\n",
              "    .colab-df-convert {\n",
              "      background-color: #E8F0FE;\n",
              "      border: none;\n",
              "      border-radius: 50%;\n",
              "      cursor: pointer;\n",
              "      display: none;\n",
              "      fill: #1967D2;\n",
              "      height: 32px;\n",
              "      padding: 0 0 0 0;\n",
              "      width: 32px;\n",
              "    }\n",
              "\n",
              "    .colab-df-convert:hover {\n",
              "      background-color: #E2EBFA;\n",
              "      box-shadow: 0px 1px 2px rgba(60, 64, 67, 0.3), 0px 1px 3px 1px rgba(60, 64, 67, 0.15);\n",
              "      fill: #174EA6;\n",
              "    }\n",
              "\n",
              "    .colab-df-buttons div {\n",
              "      margin-bottom: 4px;\n",
              "    }\n",
              "\n",
              "    [theme=dark] .colab-df-convert {\n",
              "      background-color: #3B4455;\n",
              "      fill: #D2E3FC;\n",
              "    }\n",
              "\n",
              "    [theme=dark] .colab-df-convert:hover {\n",
              "      background-color: #434B5C;\n",
              "      box-shadow: 0px 1px 3px 1px rgba(0, 0, 0, 0.15);\n",
              "      filter: drop-shadow(0px 1px 2px rgba(0, 0, 0, 0.3));\n",
              "      fill: #FFFFFF;\n",
              "    }\n",
              "  </style>\n",
              "\n",
              "    <script>\n",
              "      const buttonEl =\n",
              "        document.querySelector('#df-34c55545-573b-490c-8560-010903efb57a button.colab-df-convert');\n",
              "      buttonEl.style.display =\n",
              "        google.colab.kernel.accessAllowed ? 'block' : 'none';\n",
              "\n",
              "      async function convertToInteractive(key) {\n",
              "        const element = document.querySelector('#df-34c55545-573b-490c-8560-010903efb57a');\n",
              "        const dataTable =\n",
              "          await google.colab.kernel.invokeFunction('convertToInteractive',\n",
              "                                                    [key], {});\n",
              "        if (!dataTable) return;\n",
              "\n",
              "        const docLinkHtml = 'Like what you see? Visit the ' +\n",
              "          '<a target=\"_blank\" href=https://colab.research.google.com/notebooks/data_table.ipynb>data table notebook</a>'\n",
              "          + ' to learn more about interactive tables.';\n",
              "        element.innerHTML = '';\n",
              "        dataTable['output_type'] = 'display_data';\n",
              "        await google.colab.output.renderOutput(dataTable, element);\n",
              "        const docLink = document.createElement('div');\n",
              "        docLink.innerHTML = docLinkHtml;\n",
              "        element.appendChild(docLink);\n",
              "      }\n",
              "    </script>\n",
              "  </div>\n",
              "\n",
              "\n",
              "    </div>\n",
              "  </div>\n"
            ]
          },
          "metadata": {}
        },
        {
          "output_type": "stream",
          "name": "stdout",
          "text": [
            "\n",
            "\n",
            "Funciones de estado másicas de CO2 a T=300.0 K y P=100000.0 Pa\n"
          ]
        },
        {
          "output_type": "display_data",
          "data": {
            "text/plain": [
              "          H J/kg        U J/kg       S J/kg           G kg\n",
              "0  507429.339614  451028.60041  2744.592712 -315948.474074"
            ],
            "text/html": [
              "\n",
              "  <div id=\"df-b9431c63-0240-4c71-8dfa-2d38adc06f6c\" class=\"colab-df-container\">\n",
              "    <div>\n",
              "<style scoped>\n",
              "    .dataframe tbody tr th:only-of-type {\n",
              "        vertical-align: middle;\n",
              "    }\n",
              "\n",
              "    .dataframe tbody tr th {\n",
              "        vertical-align: top;\n",
              "    }\n",
              "\n",
              "    .dataframe thead th {\n",
              "        text-align: right;\n",
              "    }\n",
              "</style>\n",
              "<table border=\"1\" class=\"dataframe\">\n",
              "  <thead>\n",
              "    <tr style=\"text-align: right;\">\n",
              "      <th></th>\n",
              "      <th>H J/kg</th>\n",
              "      <th>U J/kg</th>\n",
              "      <th>S J/kg</th>\n",
              "      <th>G kg</th>\n",
              "    </tr>\n",
              "  </thead>\n",
              "  <tbody>\n",
              "    <tr>\n",
              "      <th>0</th>\n",
              "      <td>507429.339614</td>\n",
              "      <td>451028.60041</td>\n",
              "      <td>2744.592712</td>\n",
              "      <td>-315948.474074</td>\n",
              "    </tr>\n",
              "  </tbody>\n",
              "</table>\n",
              "</div>\n",
              "    <div class=\"colab-df-buttons\">\n",
              "\n",
              "  <div class=\"colab-df-container\">\n",
              "    <button class=\"colab-df-convert\" onclick=\"convertToInteractive('df-b9431c63-0240-4c71-8dfa-2d38adc06f6c')\"\n",
              "            title=\"Convert this dataframe to an interactive table.\"\n",
              "            style=\"display:none;\">\n",
              "\n",
              "  <svg xmlns=\"http://www.w3.org/2000/svg\" height=\"24px\" viewBox=\"0 -960 960 960\">\n",
              "    <path d=\"M120-120v-720h720v720H120Zm60-500h600v-160H180v160Zm220 220h160v-160H400v160Zm0 220h160v-160H400v160ZM180-400h160v-160H180v160Zm440 0h160v-160H620v160ZM180-180h160v-160H180v160Zm440 0h160v-160H620v160Z\"/>\n",
              "  </svg>\n",
              "    </button>\n",
              "\n",
              "  <style>\n",
              "    .colab-df-container {\n",
              "      display:flex;\n",
              "      gap: 12px;\n",
              "    }\n",
              "\n",
              "    .colab-df-convert {\n",
              "      background-color: #E8F0FE;\n",
              "      border: none;\n",
              "      border-radius: 50%;\n",
              "      cursor: pointer;\n",
              "      display: none;\n",
              "      fill: #1967D2;\n",
              "      height: 32px;\n",
              "      padding: 0 0 0 0;\n",
              "      width: 32px;\n",
              "    }\n",
              "\n",
              "    .colab-df-convert:hover {\n",
              "      background-color: #E2EBFA;\n",
              "      box-shadow: 0px 1px 2px rgba(60, 64, 67, 0.3), 0px 1px 3px 1px rgba(60, 64, 67, 0.15);\n",
              "      fill: #174EA6;\n",
              "    }\n",
              "\n",
              "    .colab-df-buttons div {\n",
              "      margin-bottom: 4px;\n",
              "    }\n",
              "\n",
              "    [theme=dark] .colab-df-convert {\n",
              "      background-color: #3B4455;\n",
              "      fill: #D2E3FC;\n",
              "    }\n",
              "\n",
              "    [theme=dark] .colab-df-convert:hover {\n",
              "      background-color: #434B5C;\n",
              "      box-shadow: 0px 1px 3px 1px rgba(0, 0, 0, 0.15);\n",
              "      filter: drop-shadow(0px 1px 2px rgba(0, 0, 0, 0.3));\n",
              "      fill: #FFFFFF;\n",
              "    }\n",
              "  </style>\n",
              "\n",
              "    <script>\n",
              "      const buttonEl =\n",
              "        document.querySelector('#df-b9431c63-0240-4c71-8dfa-2d38adc06f6c button.colab-df-convert');\n",
              "      buttonEl.style.display =\n",
              "        google.colab.kernel.accessAllowed ? 'block' : 'none';\n",
              "\n",
              "      async function convertToInteractive(key) {\n",
              "        const element = document.querySelector('#df-b9431c63-0240-4c71-8dfa-2d38adc06f6c');\n",
              "        const dataTable =\n",
              "          await google.colab.kernel.invokeFunction('convertToInteractive',\n",
              "                                                    [key], {});\n",
              "        if (!dataTable) return;\n",
              "\n",
              "        const docLinkHtml = 'Like what you see? Visit the ' +\n",
              "          '<a target=\"_blank\" href=https://colab.research.google.com/notebooks/data_table.ipynb>data table notebook</a>'\n",
              "          + ' to learn more about interactive tables.';\n",
              "        element.innerHTML = '';\n",
              "        dataTable['output_type'] = 'display_data';\n",
              "        await google.colab.output.renderOutput(dataTable, element);\n",
              "        const docLink = document.createElement('div');\n",
              "        docLink.innerHTML = docLinkHtml;\n",
              "        element.appendChild(docLink);\n",
              "      }\n",
              "    </script>\n",
              "  </div>\n",
              "\n",
              "\n",
              "    </div>\n",
              "  </div>\n"
            ]
          },
          "metadata": {}
        }
      ]
    },
    {
      "cell_type": "code",
      "source": [
        "PropsSI('H', 'T', 300, 'P', 1e5, 'CO')"
      ],
      "metadata": {
        "id": "_h90xuvcHurw"
      },
      "execution_count": null,
      "outputs": []
    }
  ]
}