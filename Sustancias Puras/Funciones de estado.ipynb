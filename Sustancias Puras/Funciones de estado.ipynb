{
  "nbformat": 4,
  "nbformat_minor": 0,
  "metadata": {
    "colab": {
      "provenance": [],
      "authorship_tag": "ABX9TyP84pqOvSeHXSFYHUYC+XNk",
      "include_colab_link": true
    },
    "kernelspec": {
      "name": "python3",
      "display_name": "Python 3"
    },
    "language_info": {
      "name": "python"
    }
  },
  "cells": [
    {
      "cell_type": "markdown",
      "metadata": {
        "id": "view-in-github",
        "colab_type": "text"
      },
      "source": [
        "<a href=\"https://colab.research.google.com/github/JManuelRG/propiedades_termodinamicas/blob/main/Sustancias%20Puras/Funciones%20de%20estado.ipynb\" target=\"_parent\"><img src=\"https://colab.research.google.com/assets/colab-badge.svg\" alt=\"Open In Colab\"/></a>"
      ]
    },
    {
      "cell_type": "markdown",
      "source": [
        "# Determinación de propíedades de sustancias puras\n",
        "\n",
        "# Librería CoolProp"
      ],
      "metadata": {
        "id": "27uuPp3kClJC"
      }
    },
    {
      "cell_type": "markdown",
      "source": [
        "## Instrucciones\n",
        "1. Instalar e importar la librería a este cuaderno con el comando de instalación siguiente\n"
      ],
      "metadata": {
        "id": "QOXNymXkHI6F"
      }
    },
    {
      "cell_type": "code",
      "source": [
        "!pip install CoolProp"
      ],
      "metadata": {
        "colab": {
          "base_uri": "https://localhost:8080/"
        },
        "id": "zJ_Pa10kHJik",
        "outputId": "6fab5ab9-5242-4d29-f6f7-b3e5d1ee3af2"
      },
      "execution_count": 1,
      "outputs": [
        {
          "output_type": "stream",
          "name": "stdout",
          "text": [
            "Collecting CoolProp\n",
            "  Downloading CoolProp-6.6.0-cp310-cp310-manylinux_2_17_x86_64.manylinux2014_x86_64.whl (7.0 MB)\n",
            "\u001b[2K     \u001b[90m━━━━━━━━━━━━━━━━━━━━━━━━━━━━━━━━━━━━━━━━\u001b[0m \u001b[32m7.0/7.0 MB\u001b[0m \u001b[31m5.1 MB/s\u001b[0m eta \u001b[36m0:00:00\u001b[0m\n",
            "\u001b[?25hInstalling collected packages: CoolProp\n",
            "Successfully installed CoolProp-6.6.0\n"
          ]
        }
      ]
    },
    {
      "cell_type": "markdown",
      "source": [
        "# Determinación\n",
        "Para determinar las funciones de estado de una sustancia pura en unidades SI, ejecutar la siguiente celda.\n",
        "\n",
        "Instruciones:\n",
        "\n",
        "a) Escribir la Temperatura en K.\n",
        "\n",
        "b) Escribir la Presión en Pa.\n",
        "\n",
        "c) Escribir el nombre de la sustancia, de acuerdo a la siguiente tabla:\n",
        "\n",
        "Sustancias incluidas: http://www.coolprop.org/fluid_properties/PurePseudoPure.html#list-of-fluids"
      ],
      "metadata": {
        "id": "o2ZkG0EWHR4L"
      }
    },
    {
      "cell_type": "code",
      "source": [
        "# Funciones de estado\n",
        "from CoolProp.CoolProp import PropsSI\n",
        "import pandas as pd\n",
        "def func_estado():\n",
        "  sust=input(\"Escribe la fórmula de la sustancia: \")\n",
        "  T = float(input(\"T (°C)= \")) + 273.15\n",
        "  P =float(input(\"P (kPa)= \"))*1000\n",
        "  tablamolar = {\"Sustancia\":sust,\n",
        "           \"H (kJ/mol)\":[PropsSI('Hmolar', 'T', T, 'P', P, sust)/1000],\n",
        "           \"U (kJ/mol)\":[PropsSI('Umolar', 'T', T, 'P', P, sust)/1000],\n",
        "           \"S (kJ/molK)\":[PropsSI('Smolar', 'T', T, 'P', P, sust)/1000],\n",
        "           \"G (kJ/mol)\":[PropsSI('Gmolar', 'T', T, 'P', P, sust)/1000]}\n",
        "  tablamasa = {\"Sustancia\":sust,\n",
        "               \"V (m3/kg)\":[(PropsSI('D', 'T', T, 'P', P, sust))**-1],\n",
        "               \"U (kJ/kg)\":[PropsSI('Umass', 'T', T, 'P', P, sust)/1000],\n",
        "               \"H (kJ/kg)\":[PropsSI('Hmass', 'T', T, 'P', P, sust)/1000],\n",
        "                \"S (kJ/kgK)\":[PropsSI('Smass', 'T', T, 'P', P, sust)/1000],\n",
        "                \"G (kJ/kg)\":[PropsSI('Gmass', 'T', T, 'P', P, sust)/1000]}\n",
        "  def ajustartabla(datos):\n",
        "    tabla = pd.DataFrame(datos)\n",
        "    tabla.set_index('Sustancia')\n",
        "    return tabla\n",
        "  tablaf1 = ajustartabla(tablamolar)\n",
        "  tablaf2 = ajustartabla(tablamasa)\n",
        "  print('\\n')\n",
        "  print(f'Funciones de estado molares de {sust} a T ={T} K = {T-273.15}°C, y P={P} kPa')\n",
        "  display(tablaf1.style.hide(axis=\"index\"))\n",
        "  print('\\n')\n",
        "  print(f'Funciones de estado másicas de {sust} a T ={T} K = {T-273.15}°C, y P={P} kPa')\n",
        "  display(tablaf2.style.hide(axis=\"index\"))\n",
        "\n",
        "func_estado()"
      ],
      "metadata": {
        "colab": {
          "base_uri": "https://localhost:8080/",
          "height": 301
        },
        "id": "wKe-Yn0JCnqT",
        "outputId": "a34290ac-bb81-4bda-d051-89328bab5d00"
      },
      "execution_count": 31,
      "outputs": [
        {
          "output_type": "stream",
          "name": "stdout",
          "text": [
            "Escribe la fórmula de la sustancia: H2O\n",
            "T (°C)= 150\n",
            "P (kPa)= 50\n",
            "\n",
            "\n",
            "Funciones de estado molares de H2O a T =423.15 K = 150.0°C, y P=50000.0 kPa\n"
          ]
        },
        {
          "output_type": "display_data",
          "data": {
            "text/plain": [
              "<pandas.io.formats.style.Styler at 0x7e2ab9e9bc70>"
            ],
            "text/html": [
              "<style type=\"text/css\">\n",
              "</style>\n",
              "<table id=\"T_8db4c\" class=\"dataframe\">\n",
              "  <thead>\n",
              "    <tr>\n",
              "      <th id=\"T_8db4c_level0_col0\" class=\"col_heading level0 col0\" >Sustancia</th>\n",
              "      <th id=\"T_8db4c_level0_col1\" class=\"col_heading level0 col1\" >H (kJ/mol)</th>\n",
              "      <th id=\"T_8db4c_level0_col2\" class=\"col_heading level0 col2\" >U (kJ/mol)</th>\n",
              "      <th id=\"T_8db4c_level0_col3\" class=\"col_heading level0 col3\" >S (kJ/molK)</th>\n",
              "      <th id=\"T_8db4c_level0_col4\" class=\"col_heading level0 col4\" >G (kJ/mol)</th>\n",
              "    </tr>\n",
              "  </thead>\n",
              "  <tbody>\n",
              "    <tr>\n",
              "      <td id=\"T_8db4c_row0_col0\" class=\"data row0 col0\" >H2O</td>\n",
              "      <td id=\"T_8db4c_row0_col1\" class=\"data row0 col1\" >50.086312</td>\n",
              "      <td id=\"T_8db4c_row0_col2\" class=\"data row0 col2\" >46.582587</td>\n",
              "      <td id=\"T_8db4c_row0_col3\" class=\"data row0 col3\" >0.143064</td>\n",
              "      <td id=\"T_8db4c_row0_col4\" class=\"data row0 col4\" >-10.451320</td>\n",
              "    </tr>\n",
              "  </tbody>\n",
              "</table>\n"
            ]
          },
          "metadata": {}
        },
        {
          "output_type": "stream",
          "name": "stdout",
          "text": [
            "\n",
            "\n",
            "Funciones de estado másicas de H2O a T =423.15 K = 150.0°C, y P=50000.0 kPa\n"
          ]
        },
        {
          "output_type": "display_data",
          "data": {
            "text/plain": [
              "<pandas.io.formats.style.Styler at 0x7e2ab9f287c0>"
            ],
            "text/html": [
              "<style type=\"text/css\">\n",
              "</style>\n",
              "<table id=\"T_7ddd8\" class=\"dataframe\">\n",
              "  <thead>\n",
              "    <tr>\n",
              "      <th id=\"T_7ddd8_level0_col0\" class=\"col_heading level0 col0\" >Sustancia</th>\n",
              "      <th id=\"T_7ddd8_level0_col1\" class=\"col_heading level0 col1\" >V (m3/kg)</th>\n",
              "      <th id=\"T_7ddd8_level0_col2\" class=\"col_heading level0 col2\" >U (kJ/kg)</th>\n",
              "      <th id=\"T_7ddd8_level0_col3\" class=\"col_heading level0 col3\" >H (kJ/kg)</th>\n",
              "      <th id=\"T_7ddd8_level0_col4\" class=\"col_heading level0 col4\" >S (kJ/kgK)</th>\n",
              "      <th id=\"T_7ddd8_level0_col5\" class=\"col_heading level0 col5\" >G (kJ/kg)</th>\n",
              "    </tr>\n",
              "  </thead>\n",
              "  <tbody>\n",
              "    <tr>\n",
              "      <td id=\"T_7ddd8_row0_col0\" class=\"data row0 col0\" >H2O</td>\n",
              "      <td id=\"T_7ddd8_row0_col1\" class=\"data row0 col1\" >3.889728</td>\n",
              "      <td id=\"T_7ddd8_row0_col2\" class=\"data row0 col2\" >2585.728250</td>\n",
              "      <td id=\"T_7ddd8_row0_col3\" class=\"data row0 col3\" >2780.214667</td>\n",
              "      <td id=\"T_7ddd8_row0_col4\" class=\"data row0 col4\" >7.941277</td>\n",
              "      <td id=\"T_7ddd8_row0_col5\" class=\"data row0 col5\" >-580.136815</td>\n",
              "    </tr>\n",
              "  </tbody>\n",
              "</table>\n"
            ]
          },
          "metadata": {}
        }
      ]
    }
  ]
}