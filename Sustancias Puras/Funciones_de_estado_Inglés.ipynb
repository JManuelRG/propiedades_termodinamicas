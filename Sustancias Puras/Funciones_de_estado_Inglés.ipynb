{
  "nbformat": 4,
  "nbformat_minor": 0,
  "metadata": {
    "colab": {
      "provenance": [],
      "authorship_tag": "ABX9TyMzP40XHEMDMtsj9dtEoM/o",
      "include_colab_link": true
    },
    "kernelspec": {
      "name": "python3",
      "display_name": "Python 3"
    },
    "language_info": {
      "name": "python"
    }
  },
  "cells": [
    {
      "cell_type": "markdown",
      "metadata": {
        "id": "view-in-github",
        "colab_type": "text"
      },
      "source": [
        "<a href=\"https://colab.research.google.com/github/JManuelRG/propiedades_termodinamicas/blob/main/Sustancias%20Puras/Funciones_de_estado_Ingl%C3%A9s.ipynb\" target=\"_parent\"><img src=\"https://colab.research.google.com/assets/colab-badge.svg\" alt=\"Open In Colab\"/></a>"
      ]
    },
    {
      "cell_type": "markdown",
      "source": [
        "# Determinación de propíedades de sustancias puras:\n",
        "# Sistema Inglés\n",
        "\n",
        "# Librería CoolProp"
      ],
      "metadata": {
        "id": "27uuPp3kClJC"
      }
    },
    {
      "cell_type": "markdown",
      "source": [
        "## Instrucciones\n",
        "1. Instalar e importar la librería a este cuaderno con el comando de instalación siguiente\n"
      ],
      "metadata": {
        "id": "QOXNymXkHI6F"
      }
    },
    {
      "cell_type": "code",
      "source": [
        "!pip install CoolProp"
      ],
      "metadata": {
        "colab": {
          "base_uri": "https://localhost:8080/"
        },
        "id": "zJ_Pa10kHJik",
        "outputId": "34378045-1e27-4fa8-a89b-823d2646e81d"
      },
      "execution_count": 1,
      "outputs": [
        {
          "output_type": "stream",
          "name": "stdout",
          "text": [
            "Collecting CoolProp\n",
            "  Downloading CoolProp-6.6.0-cp310-cp310-manylinux_2_17_x86_64.manylinux2014_x86_64.whl (7.0 MB)\n",
            "\u001b[?25l     \u001b[90m━━━━━━━━━━━━━━━━━━━━━━━━━━━━━━━━━━━━━━━━\u001b[0m \u001b[32m0.0/7.0 MB\u001b[0m \u001b[31m?\u001b[0m eta \u001b[36m-:--:--\u001b[0m\r\u001b[2K     \u001b[91m━━\u001b[0m\u001b[91m╸\u001b[0m\u001b[90m━━━━━━━━━━━━━━━━━━━━━━━━━━━━━━━━━━━━━\u001b[0m \u001b[32m0.5/7.0 MB\u001b[0m \u001b[31m14.8 MB/s\u001b[0m eta \u001b[36m0:00:01\u001b[0m\r\u001b[2K     \u001b[91m━━━━━━━━━━━━━━━━━━━━━━━━━━\u001b[0m\u001b[90m╺\u001b[0m\u001b[90m━━━━━━━━━━━━━\u001b[0m \u001b[32m4.6/7.0 MB\u001b[0m \u001b[31m66.6 MB/s\u001b[0m eta \u001b[36m0:00:01\u001b[0m\r\u001b[2K     \u001b[91m━━━━━━━━━━━━━━━━━━━━━━━━━━━━━━━━━━━━━━━\u001b[0m\u001b[91m╸\u001b[0m \u001b[32m7.0/7.0 MB\u001b[0m \u001b[31m78.0 MB/s\u001b[0m eta \u001b[36m0:00:01\u001b[0m\r\u001b[2K     \u001b[90m━━━━━━━━━━━━━━━━━━━━━━━━━━━━━━━━━━━━━━━━\u001b[0m \u001b[32m7.0/7.0 MB\u001b[0m \u001b[31m53.2 MB/s\u001b[0m eta \u001b[36m0:00:00\u001b[0m\n",
            "\u001b[?25hInstalling collected packages: CoolProp\n",
            "Successfully installed CoolProp-6.6.0\n"
          ]
        }
      ]
    },
    {
      "cell_type": "markdown",
      "source": [
        "# Determinación\n",
        "Para determinar las funciones de estado de una sustancia pura en unidades SI, ejecutar la siguiente celda.\n",
        "\n",
        "Instruciones:\n",
        "\n",
        "a) Escribir la Temperatura en K.\n",
        "\n",
        "b) Escribir la Presión en Pa.\n",
        "\n",
        "c) Escribir el nombre de la sustancia, de acuerdo a la siguiente tabla:\n",
        "\n",
        "Sustancias incluidas: http://www.coolprop.org/fluid_properties/PurePseudoPure.html#list-of-fluids"
      ],
      "metadata": {
        "id": "o2ZkG0EWHR4L"
      }
    },
    {
      "cell_type": "code",
      "source": [
        "# Funciones de estado\n",
        "from CoolProp.CoolProp import PropsSI\n",
        "import pandas as pd\n",
        "def func_estado():\n",
        "  sust=input(\"Escribe la fórmula de la sustancia: \")\n",
        "  T = float(input(\"T (°F)= \"))\n",
        "  T = (T-32)*5/9+273.15 # convertir a K\n",
        "  P =float(input(\"P (psi)= \"))\n",
        "  P = P*6894.75729316846 # convertir a Pa\n",
        "  tablamolar = {\"Sustancia\":sust,\n",
        "           \"V (ft3/lbmol)\":[((PropsSI('DMOLAR', 'T', T, 'P', P, sust))**-1)*(453.593/.03048**3)],\n",
        "           \"H (BTU/lbmol)\":[PropsSI('Hmolar', 'T', T, 'P', P, sust)*453.593/1055.06],\n",
        "           \"U (BTU/lbmol)\":[PropsSI('Umolar', 'T', T, 'P', P, sust)*453.593/1055.06],\n",
        "           \"S (BTU/lbmolR)\":[PropsSI('Smolar', 'T', T, 'P', P, sust)*453.593/1055.06/1.8],\n",
        "           \"G (BTU/lbmol)\":[PropsSI('Gmolar', 'T', T, 'P', P, sust)*453.593/1055.06]}\n",
        "  tablamasa = {\"Sustancia\":sust,\n",
        "               \"V (ft3/lbm)\":[((PropsSI('D', 'T', T, 'P', P, sust))**-1)*(0.453593/0.3048**3)],\n",
        "               \"U (BTU/lbm)\":[PropsSI('Umass', 'T', T, 'P', P, sust)*0.453593/1055.06],\n",
        "               \"H (BTU/lbm)\":[PropsSI('Hmass', 'T', T, 'P', P, sust)*0.453593/1055.06],\n",
        "                \"S (BTU/lbmR)\":[PropsSI('Smass', 'T', T, 'P', P, sust)*0.453593/1055.06/1.8],\n",
        "                \"G (BTU/lbm)\":[PropsSI('Gmass', 'T', T, 'P', P, sust)*0.453593/1055.06]}\n",
        "  def ajustartabla(datos):\n",
        "    tabla = pd.DataFrame(datos)\n",
        "    tabla.set_index('Sustancia')\n",
        "    return tabla\n",
        "  tablaf1 = ajustartabla(tablamolar)\n",
        "  tablaf2 = ajustartabla(tablamasa)\n",
        "  print('\\n')\n",
        "  print(f'Funciones de estado molares de {sust} a T ={T} K = {T-273.15}°C, y P={P} kPa')\n",
        "  display(tablaf1.style.hide(axis=\"index\"))\n",
        "  print('\\n')\n",
        "  print(f'Funciones de estado másicas de {sust} a T ={T} K = {T-273.15}°C, y P={P} kPa')\n",
        "  display(tablaf2.style.hide(axis=\"index\"))\n",
        "\n",
        "func_estado()"
      ],
      "metadata": {
        "colab": {
          "base_uri": "https://localhost:8080/",
          "height": 300
        },
        "id": "wKe-Yn0JCnqT",
        "outputId": "470d2728-4e8e-4003-e8ef-d255b0e2e0ef"
      },
      "execution_count": 5,
      "outputs": [
        {
          "output_type": "stream",
          "name": "stdout",
          "text": [
            "Escribe la fórmula de la sustancia: H2O\n",
            "T (°F)= 360\n",
            "P (psi)= 120\n",
            "\n",
            "\n",
            "Funciones de estado molares de H2O a T =455.3722222222222 K = 182.22222222222223°C, y P=827370.8751802152 kPa\n"
          ]
        },
        {
          "output_type": "display_data",
          "data": {
            "text/plain": [
              "<pandas.io.formats.style.Styler at 0x7d7aff591660>"
            ],
            "text/html": [
              "<style type=\"text/css\">\n",
              "</style>\n",
              "<table id=\"T_37cce\" class=\"dataframe\">\n",
              "  <thead>\n",
              "    <tr>\n",
              "      <th id=\"T_37cce_level0_col0\" class=\"col_heading level0 col0\" >Sustancia</th>\n",
              "      <th id=\"T_37cce_level0_col1\" class=\"col_heading level0 col1\" >V (ft3/lbmol)</th>\n",
              "      <th id=\"T_37cce_level0_col2\" class=\"col_heading level0 col2\" >H (BTU/lbmol)</th>\n",
              "      <th id=\"T_37cce_level0_col3\" class=\"col_heading level0 col3\" >U (BTU/lbmol)</th>\n",
              "      <th id=\"T_37cce_level0_col4\" class=\"col_heading level0 col4\" >S (BTU/lbmolR)</th>\n",
              "      <th id=\"T_37cce_level0_col5\" class=\"col_heading level0 col5\" >G (BTU/lbmol)</th>\n",
              "    </tr>\n",
              "  </thead>\n",
              "  <tbody>\n",
              "    <tr>\n",
              "      <td id=\"T_37cce_row0_col0\" class=\"data row0 col0\" >H2O</td>\n",
              "      <td id=\"T_37cce_row0_col1\" class=\"data row0 col1\" >69260.569505</td>\n",
              "      <td id=\"T_37cce_row0_col2\" class=\"data row0 col2\" >21655.124241</td>\n",
              "      <td id=\"T_37cce_row0_col3\" class=\"data row0 col3\" >20117.132451</td>\n",
              "      <td id=\"T_37cce_row0_col4\" class=\"data row0 col4\" >28.865856</td>\n",
              "      <td id=\"T_37cce_row0_col5\" class=\"data row0 col5\" >-2005.351583</td>\n",
              "    </tr>\n",
              "  </tbody>\n",
              "</table>\n"
            ]
          },
          "metadata": {}
        },
        {
          "output_type": "stream",
          "name": "stdout",
          "text": [
            "\n",
            "\n",
            "Funciones de estado másicas de H2O a T =455.3722222222222 K = 182.22222222222223°C, y P=827370.8751802152 kPa\n"
          ]
        },
        {
          "output_type": "display_data",
          "data": {
            "text/plain": [
              "<pandas.io.formats.style.Styler at 0x7d7aff591660>"
            ],
            "text/html": [
              "<style type=\"text/css\">\n",
              "</style>\n",
              "<table id=\"T_a8d3a\" class=\"dataframe\">\n",
              "  <thead>\n",
              "    <tr>\n",
              "      <th id=\"T_a8d3a_level0_col0\" class=\"col_heading level0 col0\" >Sustancia</th>\n",
              "      <th id=\"T_a8d3a_level0_col1\" class=\"col_heading level0 col1\" >V (ft3/lbm)</th>\n",
              "      <th id=\"T_a8d3a_level0_col2\" class=\"col_heading level0 col2\" >U (BTU/lbm)</th>\n",
              "      <th id=\"T_a8d3a_level0_col3\" class=\"col_heading level0 col3\" >H (BTU/lbm)</th>\n",
              "      <th id=\"T_a8d3a_level0_col4\" class=\"col_heading level0 col4\" >S (BTU/lbmR)</th>\n",
              "      <th id=\"T_a8d3a_level0_col5\" class=\"col_heading level0 col5\" >G (BTU/lbm)</th>\n",
              "    </tr>\n",
              "  </thead>\n",
              "  <tbody>\n",
              "    <tr>\n",
              "      <td id=\"T_a8d3a_row0_col0\" class=\"data row0 col0\" >H2O</td>\n",
              "      <td id=\"T_a8d3a_row0_col1\" class=\"data row0 col1\" >3.844548</td>\n",
              "      <td id=\"T_a8d3a_row0_col2\" class=\"data row0 col2\" >1116.671284</td>\n",
              "      <td id=\"T_a8d3a_row0_col3\" class=\"data row0 col3\" >1202.042858</td>\n",
              "      <td id=\"T_a8d3a_row0_col4\" class=\"data row0 col4\" >1.602300</td>\n",
              "      <td id=\"T_a8d3a_row0_col5\" class=\"data row0 col5\" >-111.314002</td>\n",
              "    </tr>\n",
              "  </tbody>\n",
              "</table>\n"
            ]
          },
          "metadata": {}
        }
      ]
    }
  ]
}